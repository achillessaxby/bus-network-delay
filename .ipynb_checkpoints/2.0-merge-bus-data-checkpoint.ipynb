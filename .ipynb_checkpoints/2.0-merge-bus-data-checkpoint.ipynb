{
 "cells": [
  {
   "cell_type": "markdown",
   "metadata": {
    "deletable": true,
    "editable": true
   },
   "source": [
    "# Merge Data\n",
    "#### Daniel Fay"
   ]
  },
  {
   "cell_type": "code",
   "execution_count": 19,
   "metadata": {
    "collapsed": true,
    "deletable": true,
    "editable": true
   },
   "outputs": [],
   "source": [
    "# import necessary packages\n",
    "import pandas as pd\n",
    "import os"
   ]
  },
  {
   "cell_type": "code",
   "execution_count": 23,
   "metadata": {
    "collapsed": false,
    "deletable": true,
    "editable": true
   },
   "outputs": [],
   "source": [
    "df = pd.DataFrame()\n",
    "for month in range(1,13):\n",
    "    for day in range(1,32):\n",
    "        \n",
    "        if month < 10 and day < 10:\n",
    "            file_name = '/bus_time_2016' + '0' + str(month) + '0' + str(day)\n",
    "            month_path = '0' + str(month)\n",
    "        elif month >= 10 and day < 10:\n",
    "            file_name = '/bus_time_2016' + str(month) + '0' + str(day)\n",
    "            month_path =  str(month)\n",
    "        elif month < 10 and day >= 10:\n",
    "            file_name = '/bus_time_2016' + '0' + str(month)  + str(day)\n",
    "            month_path =  '0' + str(month)\n",
    "        elif month >= 10 and day >= 10:\n",
    "            file_name = '/bus_time_2016' + str(month)  + str(day)\n",
    "            month_path =  str(month)\n",
    "            \n",
    "        if os.path.exists( 'data/external/bus_time'+ file_name + '.csv'):\n",
    "            df_temp = pd.read_csv('data/external/bus_time'+file_name+'.csv', index_col=0)\n",
    "            df = df.append(df_temp)\n",
    "        else:\n",
    "            pass"
   ]
  },
  {
   "cell_type": "code",
   "execution_count": 24,
   "metadata": {
    "collapsed": false,
    "deletable": true,
    "editable": true
   },
   "outputs": [
    {
     "data": {
      "text/plain": [
       "873674"
      ]
     },
     "execution_count": 24,
     "metadata": {},
     "output_type": "execute_result"
    }
   ],
   "source": [
    "len(df)"
   ]
  },
  {
   "cell_type": "code",
   "execution_count": 26,
   "metadata": {
    "collapsed": false,
    "deletable": true,
    "editable": true,
    "scrolled": false
   },
   "outputs": [],
   "source": [
    "df.to_csv('data/processed/bus_times.csv')"
   ]
  },
  {
   "cell_type": "code",
   "execution_count": null,
   "metadata": {
    "collapsed": true,
    "deletable": true,
    "editable": true
   },
   "outputs": [],
   "source": []
  }
 ],
 "metadata": {
  "kernelspec": {
   "display_name": "Python [default]",
   "language": "python",
   "name": "python2"
  },
  "language_info": {
   "codemirror_mode": {
    "name": "ipython",
    "version": 2
   },
   "file_extension": ".py",
   "mimetype": "text/x-python",
   "name": "python",
   "nbconvert_exporter": "python",
   "pygments_lexer": "ipython2",
   "version": "2.7.8"
  }
 },
 "nbformat": 4,
 "nbformat_minor": 2
}
