{
 "cells": [
  {
   "cell_type": "markdown",
   "metadata": {
    "deletable": true,
    "editable": true
   },
   "source": [
    "# Wrangle Data\n",
    "#### Danny Fay"
   ]
  },
  {
   "cell_type": "code",
   "execution_count": 1,
   "metadata": {
    "collapsed": false,
    "deletable": true,
    "editable": true
   },
   "outputs": [
    {
     "data": {
      "text/plain": [
       "<pyspark.context.SparkContext at 0x1005766d0>"
      ]
     },
     "execution_count": 1,
     "metadata": {},
     "output_type": "execute_result"
    }
   ],
   "source": [
    "# Import necessary packages\n",
    "import os\n",
    "import numpy as np\n",
    "import pandas as pd\n",
    "\n",
    "sc"
   ]
  },
  {
   "cell_type": "code",
   "execution_count": 2,
   "metadata": {
    "collapsed": true,
    "deletable": true,
    "editable": true
   },
   "outputs": [],
   "source": [
    "# Project file path\n",
    "bus_data_folder = 'data/external/bus_time'"
   ]
  },
  {
   "cell_type": "code",
   "execution_count": 3,
   "metadata": {
    "collapsed": false,
    "deletable": true,
    "editable": true
   },
   "outputs": [],
   "source": [
    "# Define extract buses mapping function and find direction\n",
    "def extractBuses(partId, list_of_records):\n",
    "    if partId==0:\n",
    "        list_of_records.next()\n",
    "    import csv\n",
    "    reader = csv.reader(list_of_records)\n",
    "    for row in reader:\n",
    "        if len(row[7].split('_')) >= 3:\n",
    "            bus = row[7].split('_')[2][:3]\n",
    "            if bus in bus_list:\n",
    "                direction = 0\n",
    "            \n",
    "                if bus == 'B15':\n",
    "                    if 50 <= float(row[4]) < 250:\n",
    "                        direction = 1\n",
    "                    else:\n",
    "                        direction = 2\n",
    "\n",
    "                elif bus == 'B4':\n",
    "                    if 100 <= float(row[4]) < 250:\n",
    "                        direction = 1\n",
    "                    else:\n",
    "                        direction = 2\n",
    "\n",
    "                elif bus == 'B3':\n",
    "                    if 125 <= float(row[4]) < 250:\n",
    "                        direction = 1\n",
    "                    else:\n",
    "                        direction = 2\n",
    "\n",
    "                elif bus == 'B8':\n",
    "                    if 150 <= float(row[4]) < 300:\n",
    "                        direction = 1\n",
    "                    else:\n",
    "                        direction = 2\n",
    "\n",
    "                elif bus == 'B38':\n",
    "                    if 100 <= float(row[4]) < 250:\n",
    "                        direction = 1\n",
    "                    else:\n",
    "                        direction = 2   \n",
    "\n",
    "                elif bus == 'B43':\n",
    "                    if 140 <= float(row[4]) < 320:\n",
    "                        direction = 1\n",
    "                    else:\n",
    "                        direction = 2   \n",
    "\n",
    "                elif bus == 'B54':\n",
    "                    if 50 <= float(row[4]) < 250:\n",
    "                        direction = 1\n",
    "                    else:\n",
    "                        direction = 2\n",
    "\n",
    "                elif bus == 'B57':\n",
    "                    if 100 <= float(row[4]) < 270:\n",
    "                        direction = 1\n",
    "                    else:\n",
    "                        direction = 2\n",
    "\n",
    "                elif bus == 'B62':\n",
    "                    if 175 <= float(row[4]) < 350:\n",
    "                        direction = 1\n",
    "                    else:\n",
    "                        direction = 2   \n",
    "\n",
    "                elif bus == 'B37':\n",
    "                    if 700 <= float(row[4]) < 210:\n",
    "                        direction = 1\n",
    "                    else:\n",
    "                        direction = 2   \n",
    "\n",
    "                elif bus == 'B41':\n",
    "                    if 70 <= float(row[4]) < 200:\n",
    "                        direction = 1\n",
    "                    else:\n",
    "                        direction = 2\n",
    "\n",
    "                elif bus == 'B11':\n",
    "                    if 60 <= float(row[4]) < 300:\n",
    "                        direction = 1\n",
    "                    else:\n",
    "                        direction = 2   \n",
    "\n",
    "\n",
    "                if len(row[7].split('_')[1].split('-')) > 3:\n",
    "                    tripId = row[7].split('_')[1].split('-')[3]\n",
    "                    yield row[0], bus, tripId, direction\n",
    "                    \n",
    "                else:\n",
    "                    tripId = row[7].split('_')[1].split('-')[2]\n",
    "                    yield row[0], bus, tripId, direction\n",
    "\n"
   ]
  },
  {
   "cell_type": "code",
   "execution_count": 8,
   "metadata": {
    "collapsed": false,
    "deletable": true,
    "editable": true,
    "scrolled": false
   },
   "outputs": [],
   "source": [
    "# Wrangle Data and calculate total trip time\n",
    "\n",
    "for month in range(1,13):\n",
    "    for day in range(1,32):\n",
    "        \n",
    "        if month < 10 and day < 10:\n",
    "            file_name = '/bus_time_2016' + '0' + str(month) + '0' + str(day)\n",
    "            month_path = '0' + str(month)\n",
    "        elif month >= 10 and day < 10:\n",
    "            file_name = '/bus_time_2016' + str(month) + '0' + str(day)\n",
    "            month_path =  str(month)\n",
    "        elif month < 10 and day >= 10:\n",
    "            file_name = '/bus_time_2016' + '0' + str(month)  + str(day)\n",
    "            month_path =  '0' + str(month)\n",
    "        elif month >= 10 and day >= 10:\n",
    "            file_name = '/bus_time_2016' + str(month)  + str(day)\n",
    "            month_path =  str(month)\n",
    "            \n",
    "            \n",
    "        # Download data    \n",
    "        os.system('curl -o ' + bus_data_folder + file_name + '.csv.xz ' \\\n",
    "                      'http://data.mytransit.nyc/bus_time/2016/2016-' + month_path + file_name + '.csv.xz')\n",
    "        # Unzip\n",
    "        os.system('xz -d ' + bus_data_folder + file_name + '.csv.xz')\n",
    "        \n",
    "        # Check if file exists\n",
    "        if os.path.exists(bus_data_folder + file_name + '.csv'):\n",
    "            \n",
    "            # Load into spark rdd\n",
    "            bus_time = sc.textFile(bus_data_folder + file_name + '.csv', \n",
    "                                           use_unicode=True).cache()\n",
    "\n",
    "            # List of buses for analysis\n",
    "            bus_list = ['B15', 'B4', 'B3', 'B8', 'B38', 'B43', 'B54', 'B57', 'B62', 'B37', \\\n",
    "                        'B41', 'B11']\n",
    "\n",
    "            # Extract bus lines matching bus_list\n",
    "            brooklynBuses = bus_time.mapPartitionsWithIndex(extractBuses).collect()\n",
    "\n",
    "            # Load data into pandas dataframe\n",
    "            labels = ['timestamp', 'bus_line', 'trip', 'bearing']\n",
    "            df = pd.DataFrame.from_records(brooklynBuses, columns=labels)\n",
    "            df['timestamp'] = pd.to_datetime(df['timestamp'])\n",
    "            df.sort_values(['bus_line', 'trip', 'timestamp'], inplace=True)\n",
    "\n",
    "            # Calculate time between pings for each trip\n",
    "            df['diff'] = df.groupby(['bus_line', 'trip'])['timestamp'].diff()\n",
    "            df_dir = df.iloc[:,:4]\n",
    "            df_red_bearing = df_dir.groupby(['bus_line', 'trip']).mean().reset_index()\n",
    "            df_red_bearing.bearing = df_red_bearing.bearing.round(0)\n",
    "\n",
    "            df_time = df[['timestamp','bus_line','trip','diff']]\n",
    "            df_red_time = df_time.groupby(['bus_line', 'trip']).sum().reset_index()\n",
    "            df_red = pd.merge(df_red_bearing, df_red_time, on=['bus_line','trip'], how='inner')\n",
    "\n",
    "            df_red.columns = ['bus_line', 'trip', 'direction', 'trip_time']\n",
    "            df_red['begin_time'] = df.groupby(['bus_line', 'trip']).first().reset_index()['timestamp']\n",
    "            df_red['end_time'] = df.groupby(['bus_line', 'trip']).last().reset_index()['timestamp']\n",
    "            df_red.to_csv(bus_data_folder + file_name + '.csv')\n",
    "            \n",
    "        else:\n",
    "            pass\n",
    "            "
   ]
  },
  {
   "cell_type": "code",
   "execution_count": null,
   "metadata": {
    "collapsed": true,
    "deletable": true,
    "editable": true
   },
   "outputs": [],
   "source": []
  }
 ],
 "metadata": {
  "anaconda-cloud": {},
  "kernelspec": {
   "display_name": "Python [default]",
   "language": "python",
   "name": "python2"
  },
  "language_info": {
   "codemirror_mode": {
    "name": "ipython",
    "version": 2
   },
   "file_extension": ".py",
   "mimetype": "text/x-python",
   "name": "python",
   "nbconvert_exporter": "python",
   "pygments_lexer": "ipython2",
   "version": "2.7.8"
  }
 },
 "nbformat": 4,
 "nbformat_minor": 2
}
