{
 "cells": [
  {
   "cell_type": "markdown",
   "metadata": {},
   "source": [
    "### Logistic Regression - Bus Network Delay\n",
    "#### Achilles Edwin Alfred Saxby"
   ]
  },
  {
   "cell_type": "code",
   "execution_count": 1,
   "metadata": {
    "collapsed": false
   },
   "outputs": [
    {
     "name": "stdout",
     "output_type": "stream",
     "text": [
      "Populating the interactive namespace from numpy and matplotlib\n"
     ]
    },
    {
     "name": "stderr",
     "output_type": "stream",
     "text": [
      "WARNING: pylab import has clobbered these variables: ['plt']\n",
      "`%matplotlib` prevents importing * from pylab and numpy\n"
     ]
    }
   ],
   "source": [
    "import pandas as pd\n",
    "import numpy as np\n",
    "from sklearn.linear_model import LogisticRegression\n",
    "from sklearn.model_selection import train_test_split\n",
    "\n",
    "trip_survey = pd.read_csv('bus_network_data.csv', index_col=0, low_memory=False)\n",
    "\n",
    "import matplotlib.pylab as plt\n",
    "%pylab inline"
   ]
  },
  {
   "cell_type": "code",
   "execution_count": 2,
   "metadata": {
    "collapsed": false
   },
   "outputs": [
    {
     "data": {
      "text/html": [
       "<div>\n",
       "<table border=\"1\" class=\"dataframe\">\n",
       "  <thead>\n",
       "    <tr style=\"text-align: right;\">\n",
       "      <th></th>\n",
       "      <th>bus_line</th>\n",
       "      <th>direction</th>\n",
       "      <th>date</th>\n",
       "      <th>month</th>\n",
       "      <th>day</th>\n",
       "      <th>day_of_week</th>\n",
       "      <th>time_period</th>\n",
       "      <th>hour</th>\n",
       "      <th>minute</th>\n",
       "      <th>trip_time</th>\n",
       "      <th>...</th>\n",
       "      <th>Humidity</th>\n",
       "      <th>PrecipitationIn</th>\n",
       "      <th>TemperatureF</th>\n",
       "      <th>VisibilityMPH</th>\n",
       "      <th>Wind SpeedMPH</th>\n",
       "      <th>totalInjuries</th>\n",
       "      <th>pavementScore</th>\n",
       "      <th>potholeCount</th>\n",
       "      <th>prev_trip_ratio</th>\n",
       "      <th>ntwk_delay_lag1hr</th>\n",
       "    </tr>\n",
       "  </thead>\n",
       "  <tbody>\n",
       "    <tr>\n",
       "      <th>0</th>\n",
       "      <td>B11</td>\n",
       "      <td>2.0</td>\n",
       "      <td>2016-01-01</td>\n",
       "      <td>1</td>\n",
       "      <td>1</td>\n",
       "      <td>Friday</td>\n",
       "      <td>PeakAM</td>\n",
       "      <td>9</td>\n",
       "      <td>44</td>\n",
       "      <td>38.450000</td>\n",
       "      <td>...</td>\n",
       "      <td>58.0</td>\n",
       "      <td>0.0</td>\n",
       "      <td>39.9</td>\n",
       "      <td>10.0</td>\n",
       "      <td>10.4</td>\n",
       "      <td>162</td>\n",
       "      <td>2110.0</td>\n",
       "      <td>237</td>\n",
       "      <td>0.638492</td>\n",
       "      <td>2.0</td>\n",
       "    </tr>\n",
       "    <tr>\n",
       "      <th>1</th>\n",
       "      <td>B11</td>\n",
       "      <td>1.0</td>\n",
       "      <td>2016-01-01</td>\n",
       "      <td>1</td>\n",
       "      <td>1</td>\n",
       "      <td>Friday</td>\n",
       "      <td>PeakAM</td>\n",
       "      <td>9</td>\n",
       "      <td>52</td>\n",
       "      <td>53.900000</td>\n",
       "      <td>...</td>\n",
       "      <td>58.0</td>\n",
       "      <td>0.0</td>\n",
       "      <td>39.9</td>\n",
       "      <td>10.0</td>\n",
       "      <td>10.4</td>\n",
       "      <td>162</td>\n",
       "      <td>2110.0</td>\n",
       "      <td>237</td>\n",
       "      <td>1.055520</td>\n",
       "      <td>2.0</td>\n",
       "    </tr>\n",
       "    <tr>\n",
       "      <th>2</th>\n",
       "      <td>B11</td>\n",
       "      <td>2.0</td>\n",
       "      <td>2016-01-01</td>\n",
       "      <td>1</td>\n",
       "      <td>1</td>\n",
       "      <td>Friday</td>\n",
       "      <td>MidDay</td>\n",
       "      <td>10</td>\n",
       "      <td>10</td>\n",
       "      <td>34.700000</td>\n",
       "      <td>...</td>\n",
       "      <td>58.0</td>\n",
       "      <td>0.0</td>\n",
       "      <td>39.9</td>\n",
       "      <td>10.0</td>\n",
       "      <td>6.9</td>\n",
       "      <td>162</td>\n",
       "      <td>2110.0</td>\n",
       "      <td>237</td>\n",
       "      <td>1.017161</td>\n",
       "      <td>4.0</td>\n",
       "    </tr>\n",
       "    <tr>\n",
       "      <th>3</th>\n",
       "      <td>B11</td>\n",
       "      <td>1.0</td>\n",
       "      <td>2016-01-01</td>\n",
       "      <td>1</td>\n",
       "      <td>1</td>\n",
       "      <td>Friday</td>\n",
       "      <td>MidDay</td>\n",
       "      <td>10</td>\n",
       "      <td>23</td>\n",
       "      <td>41.050000</td>\n",
       "      <td>...</td>\n",
       "      <td>58.0</td>\n",
       "      <td>0.0</td>\n",
       "      <td>39.9</td>\n",
       "      <td>10.0</td>\n",
       "      <td>6.9</td>\n",
       "      <td>162</td>\n",
       "      <td>2110.0</td>\n",
       "      <td>237</td>\n",
       "      <td>0.979406</td>\n",
       "      <td>4.0</td>\n",
       "    </tr>\n",
       "    <tr>\n",
       "      <th>4</th>\n",
       "      <td>B11</td>\n",
       "      <td>2.0</td>\n",
       "      <td>2016-01-01</td>\n",
       "      <td>1</td>\n",
       "      <td>1</td>\n",
       "      <td>Friday</td>\n",
       "      <td>MidDay</td>\n",
       "      <td>10</td>\n",
       "      <td>33</td>\n",
       "      <td>40.183333</td>\n",
       "      <td>...</td>\n",
       "      <td>58.0</td>\n",
       "      <td>0.0</td>\n",
       "      <td>39.9</td>\n",
       "      <td>10.0</td>\n",
       "      <td>6.9</td>\n",
       "      <td>162</td>\n",
       "      <td>2110.0</td>\n",
       "      <td>237</td>\n",
       "      <td>0.591185</td>\n",
       "      <td>4.0</td>\n",
       "    </tr>\n",
       "  </tbody>\n",
       "</table>\n",
       "<p>5 rows × 25 columns</p>\n",
       "</div>"
      ],
      "text/plain": [
       "  bus_line  direction        date  month  day day_of_week time_period  hour  \\\n",
       "0      B11        2.0  2016-01-01      1    1      Friday      PeakAM     9   \n",
       "1      B11        1.0  2016-01-01      1    1      Friday      PeakAM     9   \n",
       "2      B11        2.0  2016-01-01      1    1      Friday      MidDay    10   \n",
       "3      B11        1.0  2016-01-01      1    1      Friday      MidDay    10   \n",
       "4      B11        2.0  2016-01-01      1    1      Friday      MidDay    10   \n",
       "\n",
       "   minute  trip_time        ...         Humidity  PrecipitationIn  \\\n",
       "0      44  38.450000        ...             58.0              0.0   \n",
       "1      52  53.900000        ...             58.0              0.0   \n",
       "2      10  34.700000        ...             58.0              0.0   \n",
       "3      23  41.050000        ...             58.0              0.0   \n",
       "4      33  40.183333        ...             58.0              0.0   \n",
       "\n",
       "   TemperatureF VisibilityMPH Wind SpeedMPH  totalInjuries  pavementScore  \\\n",
       "0          39.9          10.0          10.4            162         2110.0   \n",
       "1          39.9          10.0          10.4            162         2110.0   \n",
       "2          39.9          10.0           6.9            162         2110.0   \n",
       "3          39.9          10.0           6.9            162         2110.0   \n",
       "4          39.9          10.0           6.9            162         2110.0   \n",
       "\n",
       "   potholeCount  prev_trip_ratio ntwk_delay_lag1hr  \n",
       "0           237         0.638492               2.0  \n",
       "1           237         1.055520               2.0  \n",
       "2           237         1.017161               4.0  \n",
       "3           237         0.979406               4.0  \n",
       "4           237         0.591185               4.0  \n",
       "\n",
       "[5 rows x 25 columns]"
      ]
     },
     "execution_count": 2,
     "metadata": {},
     "output_type": "execute_result"
    }
   ],
   "source": [
    "trip_survey.head()"
   ]
  },
  {
   "cell_type": "code",
   "execution_count": 3,
   "metadata": {
    "collapsed": false
   },
   "outputs": [
    {
     "data": {
      "text/plain": [
       "Index([u'bus_line', u'direction', u'date', u'month', u'day', u'day_of_week',\n",
       "       u'time_period', u'hour', u'minute', u'trip_time', u'avg_trip_time',\n",
       "       u'std_trip_time', u'delay_time', u'delay', u'Conditions', u'Humidity',\n",
       "       u'PrecipitationIn', u'TemperatureF', u'VisibilityMPH', u'Wind SpeedMPH',\n",
       "       u'totalInjuries', u'pavementScore', u'potholeCount', u'prev_trip_ratio',\n",
       "       u'ntwk_delay_lag1hr'],\n",
       "      dtype='object')"
      ]
     },
     "execution_count": 3,
     "metadata": {},
     "output_type": "execute_result"
    }
   ],
   "source": [
    "trip_survey.columns"
   ]
  },
  {
   "cell_type": "code",
   "execution_count": 7,
   "metadata": {
    "collapsed": false
   },
   "outputs": [
    {
     "data": {
      "text/plain": [
       "array(['on-time', 'early', 'significant delay', 'delay'], dtype=object)"
      ]
     },
     "execution_count": 7,
     "metadata": {},
     "output_type": "execute_result"
    }
   ],
   "source": [
    "trip_survey.delay.unique()"
   ]
  },
  {
   "cell_type": "code",
   "execution_count": 18,
   "metadata": {
    "collapsed": false
   },
   "outputs": [],
   "source": [
    "trip_survey.reset_index(inplace=True, drop=True)"
   ]
  },
  {
   "cell_type": "code",
   "execution_count": 19,
   "metadata": {
    "collapsed": false
   },
   "outputs": [],
   "source": [
    "for i in xrange(len(trip_survey)):\n",
    "    if ((trip_survey.delay[i] == 'delay') | (trip_survey.delay[i] == 'significant delay')):\n",
    "        trip_survey.loc[i, 'Delay'] = 1 \n",
    "    else:\n",
    "        trip_survey.loc[i, 'Delay'] = 0"
   ]
  },
  {
   "cell_type": "markdown",
   "metadata": {},
   "source": [
    "### Binomial Logistic Regression\n",
    "\n",
    "- Taking 'Delay' as a Binomial Logistic Regression Factor\n",
    "    - 0 if Early or Significantly Early\n",
    "    - 1 if Delay or Significantly Delay"
   ]
  },
  {
   "cell_type": "code",
   "execution_count": 33,
   "metadata": {
    "collapsed": true
   },
   "outputs": [],
   "source": [
    "X_B = trip_survey[[u'bus_line', u'direction', u'date', u'month', u'day', u'day_of_week', \n",
    "                   u'time_period', u'hour', u'minute', u'Conditions', u'Humidity', u'PrecipitationIn', u'TemperatureF', \n",
    "                   u'VisibilityMPH', u'Wind SpeedMPH', u'totalInjuries', u'pavementScore', u'potholeCount', \n",
    "                   u'prev_trip_ratio', u'ntwk_delay_lag1hr']]\n",
    "Y_B = trip_survey['Delay']"
   ]
  },
  {
   "cell_type": "code",
   "execution_count": 34,
   "metadata": {
    "collapsed": true
   },
   "outputs": [],
   "source": [
    "X_train_B, X_test_B, Y_train_B, Y_test_B = train_test_split(X_B, Y_B, test_size=0.33, random_state=123)"
   ]
  },
  {
   "cell_type": "code",
   "execution_count": 35,
   "metadata": {
    "collapsed": true
   },
   "outputs": [],
   "source": [
    "X_train_dummies_B = pd.get_dummies(X_train_B)"
   ]
  },
  {
   "cell_type": "code",
   "execution_count": 36,
   "metadata": {
    "collapsed": true
   },
   "outputs": [],
   "source": [
    "X_test_dummies_B = pd.get_dummies(X_test_B)"
   ]
  },
  {
   "cell_type": "code",
   "execution_count": 37,
   "metadata": {
    "collapsed": false
   },
   "outputs": [
    {
     "data": {
      "text/plain": [
       "(526248, 440)"
      ]
     },
     "execution_count": 37,
     "metadata": {},
     "output_type": "execute_result"
    }
   ],
   "source": [
    "X_train_dummies_B.shape"
   ]
  },
  {
   "cell_type": "code",
   "execution_count": 38,
   "metadata": {
    "collapsed": false
   },
   "outputs": [
    {
     "data": {
      "text/plain": [
       "(259198, 440)"
      ]
     },
     "execution_count": 38,
     "metadata": {},
     "output_type": "execute_result"
    }
   ],
   "source": [
    "X_test_dummies_B.shape"
   ]
  },
  {
   "cell_type": "code",
   "execution_count": 39,
   "metadata": {
    "collapsed": false
   },
   "outputs": [
    {
     "data": {
      "text/plain": [
       "(526248,)"
      ]
     },
     "execution_count": 39,
     "metadata": {},
     "output_type": "execute_result"
    }
   ],
   "source": [
    "Y_train_B.shape"
   ]
  },
  {
   "cell_type": "code",
   "execution_count": 40,
   "metadata": {
    "collapsed": false
   },
   "outputs": [
    {
     "data": {
      "text/plain": [
       "(259198,)"
      ]
     },
     "execution_count": 40,
     "metadata": {},
     "output_type": "execute_result"
    }
   ],
   "source": [
    "Y_test_B.shape"
   ]
  },
  {
   "cell_type": "code",
   "execution_count": 41,
   "metadata": {
    "collapsed": true
   },
   "outputs": [],
   "source": [
    "logit_B = LogisticRegression(C=1e5)"
   ]
  },
  {
   "cell_type": "code",
   "execution_count": 42,
   "metadata": {
    "collapsed": false
   },
   "outputs": [
    {
     "data": {
      "text/plain": [
       "LogisticRegression(C=100000.0, class_weight=None, dual=False,\n",
       "          fit_intercept=True, intercept_scaling=1, max_iter=100,\n",
       "          multi_class='ovr', n_jobs=1, penalty='l2', random_state=None,\n",
       "          solver='liblinear', tol=0.0001, verbose=0, warm_start=False)"
      ]
     },
     "execution_count": 42,
     "metadata": {},
     "output_type": "execute_result"
    }
   ],
   "source": [
    "logit_B.fit(X_train_dummies_B, Y_train_B)"
   ]
  },
  {
   "cell_type": "code",
   "execution_count": 43,
   "metadata": {
    "collapsed": false
   },
   "outputs": [
    {
     "data": {
      "text/plain": [
       "0.69346599896604144"
      ]
     },
     "execution_count": 43,
     "metadata": {},
     "output_type": "execute_result"
    }
   ],
   "source": [
    "logit_B.score(X_test_dummies_B, Y_test_B)"
   ]
  },
  {
   "cell_type": "code",
   "execution_count": 44,
   "metadata": {
    "collapsed": false
   },
   "outputs": [
    {
     "name": "stdout",
     "output_type": "stream",
     "text": [
      "[0.6938518044120711, 0.6945848347595275, 0.6953448714882059, 0.6950092207501601, 0.6956920963896326, 0.6930416129754088, 0.6945925508684481, 0.6945809767050671, 0.6948471824628276, 0.6953101489980632]\n"
     ]
    }
   ],
   "source": [
    "# Cross validate using best C parameter\n",
    "avg_acc_B = []\n",
    "for i in range(10):\n",
    "    X_train_B, X_test_B, Y_train_B, Y_test_B = train_test_split(X_B, Y_B, test_size=0.33, random_state=i) \n",
    "    #Use random_state to fix samples\n",
    "    X_train_dummies_B = pd.get_dummies(X_train_B)\n",
    "    X_test_dummies_B = pd.get_dummies(X_test_B)\n",
    "\n",
    "    clf_B = LogisticRegression(C=1e5) \n",
    "    clf_B.fit(X_train_dummies_B, Y_train_B)\n",
    "\n",
    "    avg_acc_B.append(1.0*(clf_B.predict(X_test_dummies_B)==np.asarray(Y_test_B)).sum()/len(Y_test_B))\n",
    "\n",
    "print avg_acc_B"
   ]
  },
  {
   "cell_type": "code",
   "execution_count": 45,
   "metadata": {
    "collapsed": false
   },
   "outputs": [
    {
     "name": "stdout",
     "output_type": "stream",
     "text": [
      "Successfully (OS) predict 69.4685529981% of the modes\n"
     ]
    }
   ],
   "source": [
    "print (\"Successfully (OS) predict {}% of the modes\".format(np.mean(avg_acc_B)*100))"
   ]
  },
  {
   "cell_type": "markdown",
   "metadata": {},
   "source": [
    "### Feature Selection - 1"
   ]
  },
  {
   "cell_type": "markdown",
   "metadata": {},
   "source": [
    "#### Average Trip Time and Standard Deviation Trip - They are both values related to time here and are highly correlated with the original trip time column. Leaving these two variables out seems to be the right choice here.\n",
    "\n",
    "#### Date as well, since we are only looking at One Year of data - looking at the dates does not seem to matter much when we are trying to find relationships between variables here.\n",
    "\n",
    "#### Features Dropped:\n",
    "- Date\n",
    "- Month\n",
    "- Day\n",
    "- Hour\n",
    "- Minute\n",
    "- Delay Time\n",
    "- Trip Time\n",
    "- Average Trip Time\n",
    "- Std Trip Time\n",
    "- PrecipitationIn\n",
    "- Wind Speed - Does not really matter when a bus is on the road (personal judgement)"
   ]
  },
  {
   "cell_type": "code",
   "execution_count": 4,
   "metadata": {
    "collapsed": true
   },
   "outputs": [],
   "source": [
    "X = trip_survey[['bus_line', 'direction', 'day_of_week', 'time_period','Conditions', \n",
    "                 'TemperatureF', 'VisibilityMPH', 'Humidity', 'totalInjuries', 'pavementScore', \n",
    "                 'potholeCount', 'prev_trip_ratio', 'ntwk_delay_lag1hr']]\n",
    "Y = trip_survey['delay']"
   ]
  },
  {
   "cell_type": "code",
   "execution_count": 5,
   "metadata": {
    "collapsed": true
   },
   "outputs": [],
   "source": [
    "X_train, X_test, Y_train, Y_test = train_test_split(X, Y, test_size=0.33, random_state=123)"
   ]
  },
  {
   "cell_type": "code",
   "execution_count": 6,
   "metadata": {
    "collapsed": true
   },
   "outputs": [],
   "source": [
    "X_train_dummies = pd.get_dummies(X_train)\n",
    "X_test_dummies = pd.get_dummies(X_test)"
   ]
  },
  {
   "cell_type": "code",
   "execution_count": 7,
   "metadata": {
    "collapsed": false
   },
   "outputs": [
    {
     "data": {
      "text/plain": [
       "(526248, 46)"
      ]
     },
     "execution_count": 7,
     "metadata": {},
     "output_type": "execute_result"
    }
   ],
   "source": [
    "X_train_dummies.shape"
   ]
  },
  {
   "cell_type": "code",
   "execution_count": 8,
   "metadata": {
    "collapsed": false
   },
   "outputs": [
    {
     "data": {
      "text/plain": [
       "(259198, 46)"
      ]
     },
     "execution_count": 8,
     "metadata": {},
     "output_type": "execute_result"
    }
   ],
   "source": [
    "X_test_dummies.shape"
   ]
  },
  {
   "cell_type": "code",
   "execution_count": 9,
   "metadata": {
    "collapsed": false
   },
   "outputs": [
    {
     "data": {
      "text/plain": [
       "(526248,)"
      ]
     },
     "execution_count": 9,
     "metadata": {},
     "output_type": "execute_result"
    }
   ],
   "source": [
    "Y_train.shape"
   ]
  },
  {
   "cell_type": "code",
   "execution_count": 10,
   "metadata": {
    "collapsed": false
   },
   "outputs": [
    {
     "data": {
      "text/plain": [
       "(259198,)"
      ]
     },
     "execution_count": 10,
     "metadata": {},
     "output_type": "execute_result"
    }
   ],
   "source": [
    "Y_test.shape"
   ]
  },
  {
   "cell_type": "code",
   "execution_count": 11,
   "metadata": {
    "collapsed": true
   },
   "outputs": [],
   "source": [
    "logit = LogisticRegression(C=1e5)"
   ]
  },
  {
   "cell_type": "code",
   "execution_count": 12,
   "metadata": {
    "collapsed": false
   },
   "outputs": [
    {
     "data": {
      "text/plain": [
       "LogisticRegression(C=100000.0, class_weight=None, dual=False,\n",
       "          fit_intercept=True, intercept_scaling=1, max_iter=100,\n",
       "          multi_class='ovr', n_jobs=1, penalty='l2', random_state=None,\n",
       "          solver='liblinear', tol=0.0001, verbose=0, warm_start=False)"
      ]
     },
     "execution_count": 12,
     "metadata": {},
     "output_type": "execute_result"
    }
   ],
   "source": [
    "logit.fit(X_train_dummies, Y_train)"
   ]
  },
  {
   "cell_type": "code",
   "execution_count": 13,
   "metadata": {
    "collapsed": false
   },
   "outputs": [
    {
     "data": {
      "text/plain": [
       "0.40404632751795927"
      ]
     },
     "execution_count": 13,
     "metadata": {},
     "output_type": "execute_result"
    }
   ],
   "source": [
    "logit.score(X_test_dummies, Y_test)"
   ]
  },
  {
   "cell_type": "code",
   "execution_count": 14,
   "metadata": {
    "collapsed": false
   },
   "outputs": [
    {
     "name": "stdout",
     "output_type": "stream",
     "text": [
      "[0.4046867645583685, 0.4029969367047585, 0.4070826163782128, 0.4032670005169793, 0.40737968657165563, 0.40538121436122193, 0.4023217771742066, 0.4038457086860238, 0.4077269114730824, 0.402418228535714]\n"
     ]
    }
   ],
   "source": [
    "avg_acc = []\n",
    "for i in range(10):\n",
    "    X_train, X_test, Y_train, Y_test = train_test_split(\n",
    "        X, Y, test_size=0.33, random_state=i) #Use random_state to fix samples\n",
    "    X_train_dummies = pd.get_dummies(X_train)\n",
    "    X_test_dummies = pd.get_dummies(X_test)\n",
    "\n",
    "    clf = LogisticRegression(C=1e5) \n",
    "    clf.fit(X_train_dummies, Y_train)\n",
    "\n",
    "    avg_acc.append(1.0*(clf.predict(X_test_dummies)==np.asarray(Y_test)).sum()/len(Y_test))\n",
    "\n",
    "print avg_acc"
   ]
  },
  {
   "cell_type": "code",
   "execution_count": 15,
   "metadata": {
    "collapsed": false
   },
   "outputs": [
    {
     "name": "stdout",
     "output_type": "stream",
     "text": [
      "Successfully (OS) predict 40.4710684496% of the modes\n"
     ]
    }
   ],
   "source": [
    "print (\"Successfully (OS) predict {}% of the modes\".format(np.mean(avg_acc)*100))"
   ]
  },
  {
   "cell_type": "markdown",
   "metadata": {},
   "source": [
    "### Feature Selection - 2\n",
    "#### Features Dropped:\n",
    "- Date\n",
    "- Month\n",
    "- Day\n",
    "- Hour\n",
    "- Minute\n",
    "- Delay Time\n",
    "- Average Trip Time\n",
    "- Std Trip Time\n",
    "- Trip Time"
   ]
  },
  {
   "cell_type": "code",
   "execution_count": 16,
   "metadata": {
    "collapsed": true
   },
   "outputs": [],
   "source": [
    "X_1 = trip_survey[[u'bus_line', u'direction', u'day_of_week', u'time_period', \n",
    "                   u'Conditions', u'Humidity', u'PrecipitationIn', u'TemperatureF', \n",
    "                   u'VisibilityMPH', u'Wind SpeedMPH', u'totalInjuries', u'pavementScore', \n",
    "                   u'potholeCount', u'prev_trip_ratio', u'ntwk_delay_lag1hr']]\n",
    "Y_1 = trip_survey['delay']"
   ]
  },
  {
   "cell_type": "code",
   "execution_count": 17,
   "metadata": {
    "collapsed": true
   },
   "outputs": [],
   "source": [
    "X_train_1, X_test_1, Y_train_1, Y_test_1 = train_test_split(X_1, Y_1, test_size=0.33, random_state=123)"
   ]
  },
  {
   "cell_type": "code",
   "execution_count": 18,
   "metadata": {
    "collapsed": true
   },
   "outputs": [],
   "source": [
    "X_train_dummies_1 = pd.get_dummies(X_train_1)"
   ]
  },
  {
   "cell_type": "code",
   "execution_count": 19,
   "metadata": {
    "collapsed": true
   },
   "outputs": [],
   "source": [
    "X_test_dummies_1 = pd.get_dummies(X_test_1)"
   ]
  },
  {
   "cell_type": "code",
   "execution_count": 20,
   "metadata": {
    "collapsed": false
   },
   "outputs": [
    {
     "data": {
      "text/plain": [
       "(526248, 70)"
      ]
     },
     "execution_count": 20,
     "metadata": {},
     "output_type": "execute_result"
    }
   ],
   "source": [
    "X_train_dummies_1.shape"
   ]
  },
  {
   "cell_type": "code",
   "execution_count": 21,
   "metadata": {
    "collapsed": false
   },
   "outputs": [
    {
     "data": {
      "text/plain": [
       "(259198, 70)"
      ]
     },
     "execution_count": 21,
     "metadata": {},
     "output_type": "execute_result"
    }
   ],
   "source": [
    "X_test_dummies_1.shape"
   ]
  },
  {
   "cell_type": "code",
   "execution_count": 22,
   "metadata": {
    "collapsed": false
   },
   "outputs": [
    {
     "data": {
      "text/plain": [
       "(526248,)"
      ]
     },
     "execution_count": 22,
     "metadata": {},
     "output_type": "execute_result"
    }
   ],
   "source": [
    "Y_train_1.shape"
   ]
  },
  {
   "cell_type": "code",
   "execution_count": 23,
   "metadata": {
    "collapsed": false
   },
   "outputs": [
    {
     "data": {
      "text/plain": [
       "(259198,)"
      ]
     },
     "execution_count": 23,
     "metadata": {},
     "output_type": "execute_result"
    }
   ],
   "source": [
    "Y_test_1.shape"
   ]
  },
  {
   "cell_type": "code",
   "execution_count": 24,
   "metadata": {
    "collapsed": true
   },
   "outputs": [],
   "source": [
    "logit_1 = LogisticRegression(C=1e5)"
   ]
  },
  {
   "cell_type": "code",
   "execution_count": 25,
   "metadata": {
    "collapsed": false
   },
   "outputs": [
    {
     "data": {
      "text/plain": [
       "LogisticRegression(C=100000.0, class_weight=None, dual=False,\n",
       "          fit_intercept=True, intercept_scaling=1, max_iter=100,\n",
       "          multi_class='ovr', n_jobs=1, penalty='l2', random_state=None,\n",
       "          solver='liblinear', tol=0.0001, verbose=0, warm_start=False)"
      ]
     },
     "execution_count": 25,
     "metadata": {},
     "output_type": "execute_result"
    }
   ],
   "source": [
    "logit_1.fit(X_train_dummies_1, Y_train_1)"
   ]
  },
  {
   "cell_type": "code",
   "execution_count": 26,
   "metadata": {
    "collapsed": false
   },
   "outputs": [
    {
     "data": {
      "text/plain": [
       "0.40490281560814512"
      ]
     },
     "execution_count": 26,
     "metadata": {},
     "output_type": "execute_result"
    }
   ],
   "source": [
    "logit_1.score(X_test_dummies_1, Y_test_1)"
   ]
  },
  {
   "cell_type": "code",
   "execution_count": 27,
   "metadata": {
    "collapsed": false
   },
   "outputs": [
    {
     "name": "stdout",
     "output_type": "stream",
     "text": [
      "[0.4073179577002909, 0.4050609958410173, 0.40387657312170616, 0.4066775206598816, 0.40414663693392694, 0.40585575505983845, 0.4058403228419972, 0.4051651633114453, 0.4041967916419108, 0.4063264377039946]\n"
     ]
    }
   ],
   "source": [
    "# Cross validate using best C parameter\n",
    "avg_acc_1 = []\n",
    "for i in range(10):\n",
    "    X_train_1, X_test_1, Y_train_1, Y_test_1 = train_test_split(X_1, Y_1, test_size=0.33, random_state=i) \n",
    "    #Use random_state to fix samples\n",
    "    X_train_dummies_1 = pd.get_dummies(X_train_1)\n",
    "    X_test_dummies_1 = pd.get_dummies(X_test_1)\n",
    "\n",
    "    clf_1 = LogisticRegression(C=1e5) \n",
    "    clf_1.fit(X_train_dummies_1, Y_train_1)\n",
    "\n",
    "    avg_acc_1.append(1.0*(clf_1.predict(X_test_dummies_1)==np.asarray(Y_test_1)).sum()/len(Y_test_1))\n",
    "\n",
    "print avg_acc_1"
   ]
  },
  {
   "cell_type": "code",
   "execution_count": 28,
   "metadata": {
    "collapsed": false
   },
   "outputs": [
    {
     "name": "stdout",
     "output_type": "stream",
     "text": [
      "Successfully (OS) predict 40.5446415482% of the modes\n"
     ]
    }
   ],
   "source": [
    "print (\"Successfully (OS) predict {}% of the modes\".format(np.mean(avg_acc_1)*100))"
   ]
  },
  {
   "cell_type": "markdown",
   "metadata": {},
   "source": [
    "### Feature Selection - 3\n",
    "#### Features Dropped:\n",
    "\n",
    "- Delay Time\n",
    "- Trip Time\n",
    "- Average Trip Time\n",
    "- STD Trip Time\n",
    "\n",
    "#### Feature Taken:\n",
    "\n",
    "- All Features"
   ]
  },
  {
   "cell_type": "code",
   "execution_count": 29,
   "metadata": {
    "collapsed": true
   },
   "outputs": [],
   "source": [
    "X_2 = trip_survey[[u'bus_line', u'direction', u'date', u'month', u'day', u'day_of_week', \n",
    "                   u'time_period', u'hour', u'minute', u'Conditions', u'Humidity', u'PrecipitationIn', u'TemperatureF', \n",
    "                   u'VisibilityMPH', u'Wind SpeedMPH', u'totalInjuries', u'pavementScore', u'potholeCount', \n",
    "                   u'prev_trip_ratio', u'ntwk_delay_lag1hr']]\n",
    "Y_2 = trip_survey['delay']"
   ]
  },
  {
   "cell_type": "code",
   "execution_count": 30,
   "metadata": {
    "collapsed": true
   },
   "outputs": [],
   "source": [
    "X_train_2, X_test_2, Y_train_2, Y_test_2 = train_test_split(X_2, Y_2, test_size=0.33, random_state=123)"
   ]
  },
  {
   "cell_type": "code",
   "execution_count": 31,
   "metadata": {
    "collapsed": true
   },
   "outputs": [],
   "source": [
    "X_train_dummies_2 = pd.get_dummies(X_train_2)"
   ]
  },
  {
   "cell_type": "code",
   "execution_count": 32,
   "metadata": {
    "collapsed": true
   },
   "outputs": [],
   "source": [
    "X_test_dummies_2 = pd.get_dummies(X_test_2)"
   ]
  },
  {
   "cell_type": "code",
   "execution_count": 33,
   "metadata": {
    "collapsed": false
   },
   "outputs": [
    {
     "data": {
      "text/plain": [
       "(526248, 440)"
      ]
     },
     "execution_count": 33,
     "metadata": {},
     "output_type": "execute_result"
    }
   ],
   "source": [
    "X_train_dummies_2.shape"
   ]
  },
  {
   "cell_type": "code",
   "execution_count": 34,
   "metadata": {
    "collapsed": false
   },
   "outputs": [
    {
     "data": {
      "text/plain": [
       "(259198, 440)"
      ]
     },
     "execution_count": 34,
     "metadata": {},
     "output_type": "execute_result"
    }
   ],
   "source": [
    "X_test_dummies_2.shape"
   ]
  },
  {
   "cell_type": "code",
   "execution_count": 35,
   "metadata": {
    "collapsed": false
   },
   "outputs": [
    {
     "data": {
      "text/plain": [
       "(526248,)"
      ]
     },
     "execution_count": 35,
     "metadata": {},
     "output_type": "execute_result"
    }
   ],
   "source": [
    "Y_train_2.shape"
   ]
  },
  {
   "cell_type": "code",
   "execution_count": 36,
   "metadata": {
    "collapsed": false
   },
   "outputs": [
    {
     "data": {
      "text/plain": [
       "(259198,)"
      ]
     },
     "execution_count": 36,
     "metadata": {},
     "output_type": "execute_result"
    }
   ],
   "source": [
    "Y_test_2.shape"
   ]
  },
  {
   "cell_type": "code",
   "execution_count": 37,
   "metadata": {
    "collapsed": true
   },
   "outputs": [],
   "source": [
    "logit_2 = LogisticRegression(C=1e5)"
   ]
  },
  {
   "cell_type": "code",
   "execution_count": 38,
   "metadata": {
    "collapsed": false
   },
   "outputs": [
    {
     "data": {
      "text/plain": [
       "LogisticRegression(C=100000.0, class_weight=None, dual=False,\n",
       "          fit_intercept=True, intercept_scaling=1, max_iter=100,\n",
       "          multi_class='ovr', n_jobs=1, penalty='l2', random_state=None,\n",
       "          solver='liblinear', tol=0.0001, verbose=0, warm_start=False)"
      ]
     },
     "execution_count": 38,
     "metadata": {},
     "output_type": "execute_result"
    }
   ],
   "source": [
    "logit_2.fit(X_train_dummies_2, Y_train_2)"
   ]
  },
  {
   "cell_type": "code",
   "execution_count": 39,
   "metadata": {
    "collapsed": false
   },
   "outputs": [
    {
     "data": {
      "text/plain": [
       "0.42129954706440637"
      ]
     },
     "execution_count": 39,
     "metadata": {},
     "output_type": "execute_result"
    }
   ],
   "source": [
    "logit_2.score(X_test_dummies_2, Y_test_2)"
   ]
  },
  {
   "cell_type": "code",
   "execution_count": 40,
   "metadata": {
    "collapsed": false
   },
   "outputs": [
    {
     "name": "stdout",
     "output_type": "stream",
     "text": [
      "[0.4217007847282772, 0.4228003302494618, 0.42367610861194915, 0.4216930686193566, 0.42299323297247665, 0.42100247687096354, 0.4217007847282772, 0.42123010208412104, 0.4239847529687729, 0.42251869227386013]\n"
     ]
    }
   ],
   "source": [
    "# Cross validate using best C parameter\n",
    "avg_acc_2 = []\n",
    "for i in range(10):\n",
    "    X_train_2, X_test_2, Y_train_2, Y_test_2 = train_test_split(X_2, Y_2, test_size=0.33, random_state=i) \n",
    "    #Use random_state to fix samples\n",
    "    X_train_dummies_2 = pd.get_dummies(X_train_2)\n",
    "    X_test_dummies_2 = pd.get_dummies(X_test_2)\n",
    "\n",
    "    clf_2 = LogisticRegression(C=1e5) \n",
    "    clf_2.fit(X_train_dummies_2, Y_train_2)\n",
    "\n",
    "    avg_acc_2.append(1.0*(clf_2.predict(X_test_dummies_2)==np.asarray(Y_test_2)).sum()/len(Y_test_2))\n",
    "\n",
    "print avg_acc_2"
   ]
  },
  {
   "cell_type": "code",
   "execution_count": 41,
   "metadata": {
    "collapsed": false,
    "scrolled": true
   },
   "outputs": [
    {
     "name": "stdout",
     "output_type": "stream",
     "text": [
      "Successfully (OS) predict 42.2330033411% of the modes\n"
     ]
    }
   ],
   "source": [
    "print (\"Successfully (OS) predict {}% of the modes\".format(np.mean(avg_acc_2)*100))"
   ]
  },
  {
   "cell_type": "markdown",
   "metadata": {},
   "source": [
    "#### Binomial Confusion Matrix"
   ]
  },
  {
   "cell_type": "code",
   "execution_count": 47,
   "metadata": {
    "collapsed": false
   },
   "outputs": [],
   "source": [
    "y_pred = clf_B.predict(X_test_dummies_B)"
   ]
  },
  {
   "cell_type": "code",
   "execution_count": 50,
   "metadata": {
    "collapsed": false
   },
   "outputs": [
    {
     "name": "stdout",
     "output_type": "stream",
     "text": [
      "Normalized confusion matrix\n",
      "[[ 0.91  0.09]\n",
      " [ 0.72  0.28]]\n"
     ]
    },
    {
     "data": {
      "image/png": "[encoded data removed]",
      "text/plain": [
       "<matplotlib.figure.Figure at 0x102976990>"
      ]
     },
     "metadata": {},
     "output_type": "display_data"
    }
   ],
   "source": [
    "import itertools\n",
    "from sklearn.metrics import confusion_matrix\n",
    "\n",
    "\n",
    "class_names = ['no delay', 'delay']\n",
    "def plot_confusion_matrix(cm, classes, normalize=False, title='Confusion matrix', cmap=plt.cm.Reds):\n",
    "    \"\"\"\n",
    "    This function prints and plots the confusion matrix.\n",
    "    Normalization can be applied by setting `normalize=True`.\n",
    "    \"\"\"\n",
    "    plt.imshow(cm, interpolation='nearest', cmap=cmap)\n",
    "    plt.title(title)\n",
    "    plt.colorbar()\n",
    "    tick_marks = np.arange(len(classes))\n",
    "    plt.xticks(tick_marks, classes, rotation=45)\n",
    "    plt.yticks(tick_marks, classes)\n",
    "\n",
    "    if normalize:\n",
    "        cm = cm.astype('float') / cm.sum(axis=1)[:, np.newaxis]\n",
    "        print(\"Normalized confusion matrix\")\n",
    "    else:\n",
    "        print('Confusion matrix, without normalization')\n",
    "\n",
    "    print(cm)\n",
    "\n",
    "    thresh = cm.max() / 2.\n",
    "    for i, j in itertools.product(range(cm.shape[0]), range(cm.shape[1])):\n",
    "        plt.text(j, i, cm[i, j], horizontalalignment=\"center\", color=\"white\" if cm[i, j] > thresh else \"black\")\n",
    "\n",
    "    plt.tight_layout()\n",
    "    plt.ylabel('True label')\n",
    "    plt.xlabel('Predicted label')\n",
    "\n",
    "# Compute confusion matrix\n",
    "cnf_matrix = confusion_matrix(Y_test_B, y_pred)\n",
    "np.set_printoptions(precision=2)\n",
    "\n",
    "# Plot normalized confusion matrix\n",
    "plt.figure()\n",
    "plot_confusion_matrix(cnf_matrix, classes=class_names, normalize=True,\n",
    "                      title='Normalized confusion matrix')\n",
    "\n",
    "plt.show()"
   ]
  },
  {
   "cell_type": "code",
   "execution_count": null,
   "metadata": {
    "collapsed": true
   },
   "outputs": [],
   "source": []
  }
 ],
 "metadata": {
  "anaconda-cloud": {},
  "kernelspec": {
   "display_name": "Python [Root]",
   "language": "python",
   "name": "Python [Root]"
  },
  "language_info": {
   "codemirror_mode": {
    "name": "ipython",
    "version": 2
   },
   "file_extension": ".py",
   "mimetype": "text/x-python",
   "name": "python",
   "nbconvert_exporter": "python",
   "pygments_lexer": "ipython2",
   "version": "2.7.12"
  }
 },
 "nbformat": 4,
 "nbformat_minor": 0
}
