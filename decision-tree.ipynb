{
 "cells": [
  {
   "cell_type": "markdown",
   "metadata": {
    "deletable": true,
    "editable": true
   },
   "source": [
    "# Decision Tree Model"
   ]
  },
  {
   "cell_type": "markdown",
   "metadata": {
    "deletable": true,
    "editable": true
   },
   "source": [
    "#### Daniel Fay"
   ]
  },
  {
   "cell_type": "markdown",
   "metadata": {
    "deletable": true,
    "editable": true
   },
   "source": [
    "#### Train Decision Tree Model - early, on-time, delay, significant delay"
   ]
  },
  {
   "cell_type": "code",
   "execution_count": 1,
   "metadata": {
    "collapsed": false,
    "deletable": true,
    "editable": true
   },
   "outputs": [],
   "source": [
    "# Import Necessary Packages\n",
    "import pandas as pd\n",
    "import numpy as np\n",
    "import matplotlib.pyplot as plt\n",
    "from sklearn.model_selection import train_test_split\n",
    "from sklearn.tree import DecisionTreeClassifier as DTC\n",
    "from sklearn import tree\n",
    "from sklearn.model_selection import GridSearchCV\n",
    "% matplotlib inline"
   ]
  },
  {
   "cell_type": "code",
   "execution_count": 2,
   "metadata": {
    "collapsed": false,
    "deletable": true,
    "editable": true
   },
   "outputs": [
    {
     "data": {
      "text/html": [
       "<div>\n",
       "<table border=\"1\" class=\"dataframe\">\n",
       "  <thead>\n",
       "    <tr style=\"text-align: right;\">\n",
       "      <th></th>\n",
       "      <th>bus_line</th>\n",
       "      <th>direction</th>\n",
       "      <th>date</th>\n",
       "      <th>month</th>\n",
       "      <th>day</th>\n",
       "      <th>day_of_week</th>\n",
       "      <th>time_period</th>\n",
       "      <th>hour</th>\n",
       "      <th>minute</th>\n",
       "      <th>trip_time</th>\n",
       "      <th>...</th>\n",
       "      <th>Humidity</th>\n",
       "      <th>PrecipitationIn</th>\n",
       "      <th>TemperatureF</th>\n",
       "      <th>VisibilityMPH</th>\n",
       "      <th>Wind SpeedMPH</th>\n",
       "      <th>totalInjuries</th>\n",
       "      <th>pavementScore</th>\n",
       "      <th>potholeCount</th>\n",
       "      <th>prev_trip_ratio</th>\n",
       "      <th>ntwk_delay_lag1hr</th>\n",
       "    </tr>\n",
       "  </thead>\n",
       "  <tbody>\n",
       "    <tr>\n",
       "      <th>0</th>\n",
       "      <td>B11</td>\n",
       "      <td>2.0</td>\n",
       "      <td>2016-01-01</td>\n",
       "      <td>1</td>\n",
       "      <td>1</td>\n",
       "      <td>Friday</td>\n",
       "      <td>PeakAM</td>\n",
       "      <td>9</td>\n",
       "      <td>44</td>\n",
       "      <td>38.450000</td>\n",
       "      <td>...</td>\n",
       "      <td>58.0</td>\n",
       "      <td>0.0</td>\n",
       "      <td>39.9</td>\n",
       "      <td>10.0</td>\n",
       "      <td>10.4</td>\n",
       "      <td>162</td>\n",
       "      <td>2110.0</td>\n",
       "      <td>237</td>\n",
       "      <td>0.638492</td>\n",
       "      <td>2.0</td>\n",
       "    </tr>\n",
       "    <tr>\n",
       "      <th>1</th>\n",
       "      <td>B11</td>\n",
       "      <td>1.0</td>\n",
       "      <td>2016-01-01</td>\n",
       "      <td>1</td>\n",
       "      <td>1</td>\n",
       "      <td>Friday</td>\n",
       "      <td>PeakAM</td>\n",
       "      <td>9</td>\n",
       "      <td>52</td>\n",
       "      <td>53.900000</td>\n",
       "      <td>...</td>\n",
       "      <td>58.0</td>\n",
       "      <td>0.0</td>\n",
       "      <td>39.9</td>\n",
       "      <td>10.0</td>\n",
       "      <td>10.4</td>\n",
       "      <td>162</td>\n",
       "      <td>2110.0</td>\n",
       "      <td>237</td>\n",
       "      <td>1.055520</td>\n",
       "      <td>2.0</td>\n",
       "    </tr>\n",
       "    <tr>\n",
       "      <th>2</th>\n",
       "      <td>B11</td>\n",
       "      <td>2.0</td>\n",
       "      <td>2016-01-01</td>\n",
       "      <td>1</td>\n",
       "      <td>1</td>\n",
       "      <td>Friday</td>\n",
       "      <td>MidDay</td>\n",
       "      <td>10</td>\n",
       "      <td>10</td>\n",
       "      <td>34.700000</td>\n",
       "      <td>...</td>\n",
       "      <td>58.0</td>\n",
       "      <td>0.0</td>\n",
       "      <td>39.9</td>\n",
       "      <td>10.0</td>\n",
       "      <td>6.9</td>\n",
       "      <td>162</td>\n",
       "      <td>2110.0</td>\n",
       "      <td>237</td>\n",
       "      <td>1.017161</td>\n",
       "      <td>4.0</td>\n",
       "    </tr>\n",
       "    <tr>\n",
       "      <th>3</th>\n",
       "      <td>B11</td>\n",
       "      <td>1.0</td>\n",
       "      <td>2016-01-01</td>\n",
       "      <td>1</td>\n",
       "      <td>1</td>\n",
       "      <td>Friday</td>\n",
       "      <td>MidDay</td>\n",
       "      <td>10</td>\n",
       "      <td>23</td>\n",
       "      <td>41.050000</td>\n",
       "      <td>...</td>\n",
       "      <td>58.0</td>\n",
       "      <td>0.0</td>\n",
       "      <td>39.9</td>\n",
       "      <td>10.0</td>\n",
       "      <td>6.9</td>\n",
       "      <td>162</td>\n",
       "      <td>2110.0</td>\n",
       "      <td>237</td>\n",
       "      <td>0.979406</td>\n",
       "      <td>4.0</td>\n",
       "    </tr>\n",
       "    <tr>\n",
       "      <th>4</th>\n",
       "      <td>B11</td>\n",
       "      <td>2.0</td>\n",
       "      <td>2016-01-01</td>\n",
       "      <td>1</td>\n",
       "      <td>1</td>\n",
       "      <td>Friday</td>\n",
       "      <td>MidDay</td>\n",
       "      <td>10</td>\n",
       "      <td>33</td>\n",
       "      <td>40.183333</td>\n",
       "      <td>...</td>\n",
       "      <td>58.0</td>\n",
       "      <td>0.0</td>\n",
       "      <td>39.9</td>\n",
       "      <td>10.0</td>\n",
       "      <td>6.9</td>\n",
       "      <td>162</td>\n",
       "      <td>2110.0</td>\n",
       "      <td>237</td>\n",
       "      <td>0.591185</td>\n",
       "      <td>4.0</td>\n",
       "    </tr>\n",
       "  </tbody>\n",
       "</table>\n",
       "<p>5 rows × 25 columns</p>\n",
       "</div>"
      ],
      "text/plain": [
       "  bus_line  direction        date  month  day day_of_week time_period  hour  \\\n",
       "0      B11        2.0  2016-01-01      1    1      Friday      PeakAM     9   \n",
       "1      B11        1.0  2016-01-01      1    1      Friday      PeakAM     9   \n",
       "2      B11        2.0  2016-01-01      1    1      Friday      MidDay    10   \n",
       "3      B11        1.0  2016-01-01      1    1      Friday      MidDay    10   \n",
       "4      B11        2.0  2016-01-01      1    1      Friday      MidDay    10   \n",
       "\n",
       "   minute  trip_time        ...         Humidity  PrecipitationIn  \\\n",
       "0      44  38.450000        ...             58.0              0.0   \n",
       "1      52  53.900000        ...             58.0              0.0   \n",
       "2      10  34.700000        ...             58.0              0.0   \n",
       "3      23  41.050000        ...             58.0              0.0   \n",
       "4      33  40.183333        ...             58.0              0.0   \n",
       "\n",
       "   TemperatureF VisibilityMPH Wind SpeedMPH  totalInjuries  pavementScore  \\\n",
       "0          39.9          10.0          10.4            162         2110.0   \n",
       "1          39.9          10.0          10.4            162         2110.0   \n",
       "2          39.9          10.0           6.9            162         2110.0   \n",
       "3          39.9          10.0           6.9            162         2110.0   \n",
       "4          39.9          10.0           6.9            162         2110.0   \n",
       "\n",
       "   potholeCount  prev_trip_ratio ntwk_delay_lag1hr  \n",
       "0           237         0.638492               2.0  \n",
       "1           237         1.055520               2.0  \n",
       "2           237         1.017161               4.0  \n",
       "3           237         0.979406               4.0  \n",
       "4           237         0.591185               4.0  \n",
       "\n",
       "[5 rows x 25 columns]"
      ]
     },
     "execution_count": 2,
     "metadata": {},
     "output_type": "execute_result"
    }
   ],
   "source": [
    "# Load Dataset\n",
    "df = pd.read_csv('data/processed/bus_network_data.csv', index_col=0)\n",
    "df.head()"
   ]
  },
  {
   "cell_type": "code",
   "execution_count": 3,
   "metadata": {
    "collapsed": false,
    "deletable": true,
    "editable": true
   },
   "outputs": [
    {
     "data": {
      "text/plain": [
       "Index([u'bus_line', u'direction', u'date', u'month', u'day', u'day_of_week',\n",
       "       u'time_period', u'hour', u'minute', u'trip_time', u'avg_trip_time',\n",
       "       u'std_trip_time', u'delay_time', u'delay', u'Conditions', u'Humidity',\n",
       "       u'PrecipitationIn', u'TemperatureF', u'VisibilityMPH', u'Wind SpeedMPH',\n",
       "       u'totalInjuries', u'pavementScore', u'potholeCount', u'prev_trip_ratio',\n",
       "       u'ntwk_delay_lag1hr'],\n",
       "      dtype='object')"
      ]
     },
     "execution_count": 3,
     "metadata": {},
     "output_type": "execute_result"
    }
   ],
   "source": [
    "df.columns"
   ]
  },
  {
   "cell_type": "code",
   "execution_count": 4,
   "metadata": {
    "collapsed": false,
    "deletable": true,
    "editable": true
   },
   "outputs": [
    {
     "data": {
      "text/plain": [
       "bus_line              object\n",
       "direction            float64\n",
       "date                  object\n",
       "month                  int64\n",
       "day                    int64\n",
       "day_of_week           object\n",
       "time_period           object\n",
       "hour                   int64\n",
       "minute                 int64\n",
       "trip_time            float64\n",
       "avg_trip_time        float64\n",
       "std_trip_time        float64\n",
       "delay_time           float64\n",
       "delay                 object\n",
       "Conditions            object\n",
       "Humidity             float64\n",
       "PrecipitationIn      float64\n",
       "TemperatureF         float64\n",
       "VisibilityMPH        float64\n",
       "Wind SpeedMPH        float64\n",
       "totalInjuries          int64\n",
       "pavementScore        float64\n",
       "potholeCount           int64\n",
       "prev_trip_ratio      float64\n",
       "ntwk_delay_lag1hr     object\n",
       "dtype: object"
      ]
     },
     "execution_count": 4,
     "metadata": {},
     "output_type": "execute_result"
    }
   ],
   "source": [
    "df.ntwk_delay_lag1hr = df.ntwk_delay_lag1hr.astype(str)\n",
    "df['Wind SpeedMPH'].replace('Calm', 1, inplace=True)\n",
    "df['Wind SpeedMPH'].replace('-9999', 0, inplace=True)\n",
    "df['Wind SpeedMPH'] = df['Wind SpeedMPH'].astype(float)\n",
    "df.dtypes"
   ]
  },
  {
   "cell_type": "code",
   "execution_count": 5,
   "metadata": {
    "collapsed": false,
    "deletable": true,
    "editable": true
   },
   "outputs": [],
   "source": [
    "df['delayBinom'] = map(int,((df.delay == 'delay')|(df.delay == 'significant delay')))"
   ]
  },
  {
   "cell_type": "code",
   "execution_count": 6,
   "metadata": {
    "collapsed": true,
    "deletable": true,
    "editable": true
   },
   "outputs": [],
   "source": [
    "# Select target variable and feature space\n",
    "X = pd.get_dummies(df[[u'bus_line', u'direction', u'month', u'day_of_week',\n",
    "       u'hour', u'Conditions', u'Humidity', u'PrecipitationIn', \n",
    "       u'TemperatureF', u'VisibilityMPH', u'Wind SpeedMPH', u'totalInjuries', \n",
    "       u'pavementScore', u'potholeCount', u'prev_trip_ratio', u'ntwk_delay_lag1hr']])\n",
    "\n",
    "Y = df['delay']\n",
    "\n",
    "X_train,X_test,y_train,y_test=train_test_split(X, Y, test_size=0.3, random_state=123)"
   ]
  },
  {
   "cell_type": "code",
   "execution_count": 7,
   "metadata": {
    "collapsed": false,
    "deletable": true,
    "editable": true
   },
   "outputs": [
    {
     "data": {
      "text/plain": [
       "Index([u'direction', u'month', u'hour', u'Humidity', u'PrecipitationIn',\n",
       "       u'TemperatureF', u'VisibilityMPH', u'Wind SpeedMPH', u'totalInjuries',\n",
       "       u'pavementScore', u'potholeCount', u'prev_trip_ratio', u'bus_line_B11',\n",
       "       u'bus_line_B15', u'bus_line_B3', u'bus_line_B37', u'bus_line_B38',\n",
       "       u'bus_line_B4', u'bus_line_B41', u'bus_line_B43', u'bus_line_B54',\n",
       "       u'bus_line_B57', u'bus_line_B62', u'bus_line_B8', u'day_of_week_Friday',\n",
       "       u'day_of_week_Monday', u'day_of_week_Saturday', u'day_of_week_Sunday',\n",
       "       u'day_of_week_Thursday', u'day_of_week_Tuesday',\n",
       "       u'day_of_week_Wednesday', u'Conditions_Clear', u'Conditions_Haze',\n",
       "       u'Conditions_Heavy Rain', u'Conditions_Heavy Snow',\n",
       "       u'Conditions_Light Freezing Rain', u'Conditions_Light Rain',\n",
       "       u'Conditions_Light Snow', u'Conditions_Mostly Cloudy',\n",
       "       u'Conditions_Overcast', u'Conditions_Partly Cloudy', u'Conditions_Rain',\n",
       "       u'Conditions_Scattered Clouds', u'Conditions_Snow',\n",
       "       u'Conditions_Unknown', u'ntwk_delay_lag1hr_0.0',\n",
       "       u'ntwk_delay_lag1hr_1.0', u'ntwk_delay_lag1hr_2.0',\n",
       "       u'ntwk_delay_lag1hr_3.0', u'ntwk_delay_lag1hr_4.0',\n",
       "       u'ntwk_delay_lag1hr_5.0'],\n",
       "      dtype='object')"
      ]
     },
     "execution_count": 7,
     "metadata": {},
     "output_type": "execute_result"
    }
   ],
   "source": [
    "X.columns"
   ]
  },
  {
   "cell_type": "code",
   "execution_count": 8,
   "metadata": {
    "collapsed": false,
    "deletable": true,
    "editable": true
   },
   "outputs": [
    {
     "data": {
      "text/plain": [
       "{'max_depth': 13.555555555555555}"
      ]
     },
     "execution_count": 8,
     "metadata": {},
     "output_type": "execute_result"
    }
   ],
   "source": [
    "# Find best C parameter\n",
    "param_grid = {'max_depth': np.linspace(10,18,10)}\n",
    "dtc = DTC()\n",
    "C_param = GridSearchCV(dtc, param_grid, cv=5)\n",
    "C_param.fit(X_train, y_train)\n",
    "C_param.best_params_"
   ]
  },
  {
   "cell_type": "code",
   "execution_count": 9,
   "metadata": {
    "collapsed": false,
    "deletable": true,
    "editable": true
   },
   "outputs": [
    {
     "name": "stdout",
     "output_type": "stream",
     "text": [
      "Successfully (OS) predict 47.3507511632% of Bus Delays\n"
     ]
    }
   ],
   "source": [
    "# Cross validate using best C parameter\n",
    "avg_acc = []\n",
    "for i in range(10):\n",
    "    X_train, X_test, Y_train, Y_test = train_test_split(\n",
    "        X, Y, test_size=0.33, random_state=i) #Use random_state to fix samples\n",
    "    #X_train_dummies = pd.get_dummies(X_train)\n",
    "    #X_test_dummies = pd.get_dummies(X_test)\n",
    "\n",
    "    clf = DTC(max_depth=C_param.best_params_.values()[0]) \n",
    "    clf.fit(X_train, Y_train)\n",
    "\n",
    "    avg_acc.append(1.0*(clf.predict(X_test)==np.asarray(Y_test)).sum()/len(Y_test))\n",
    "\n",
    "print (\"Successfully (OS) predict {}% of Bus Delays\".format(np.mean(avg_acc)*100))"
   ]
  },
  {
   "cell_type": "code",
   "execution_count": 11,
   "metadata": {
    "collapsed": false,
    "deletable": true,
    "editable": true
   },
   "outputs": [],
   "source": [
    "y_pred = clf.predict(X_test)"
   ]
  },
  {
   "cell_type": "code",
   "execution_count": 12,
   "metadata": {
    "collapsed": false,
    "deletable": true,
    "editable": true
   },
   "outputs": [
    {
     "data": {
      "text/plain": [
       "(array(['delay', 'early', 'on-time', 'significant delay'], dtype=object),\n",
       " array([ 26635, 111079,  95871,  25613]))"
      ]
     },
     "execution_count": 12,
     "metadata": {},
     "output_type": "execute_result"
    }
   ],
   "source": [
    "np.unique(y_pred, return_counts=True)"
   ]
  },
  {
   "cell_type": "code",
   "execution_count": 13,
   "metadata": {
    "collapsed": true,
    "deletable": true,
    "editable": true
   },
   "outputs": [],
   "source": [
    "df_dummies = X.copy()\n",
    "df_dummies['delay'] = Y.copy()\n",
    "delay_df = df_dummies.loc[df_dummies['delay'].isin(['delay','significant delay'])]"
   ]
  },
  {
   "cell_type": "code",
   "execution_count": 14,
   "metadata": {
    "collapsed": false,
    "deletable": true,
    "editable": true
   },
   "outputs": [],
   "source": [
    "Y_delay = delay_df['delay']\n",
    "X_delay = delay_df.iloc[:,:-1]"
   ]
  },
  {
   "cell_type": "code",
   "execution_count": 15,
   "metadata": {
    "collapsed": false,
    "deletable": true,
    "editable": true
   },
   "outputs": [
    {
     "data": {
      "text/plain": [
       "0.2697064348759542"
      ]
     },
     "execution_count": 15,
     "metadata": {},
     "output_type": "execute_result"
    }
   ],
   "source": [
    "1.0*(clf.predict(X_delay)==np.asarray(Y_delay)).sum()/len(Y_delay)"
   ]
  },
  {
   "cell_type": "markdown",
   "metadata": {
    "deletable": true,
    "editable": true
   },
   "source": [
    "#### Train Decision Tree Model - delay, no delay"
   ]
  },
  {
   "cell_type": "code",
   "execution_count": 16,
   "metadata": {
    "collapsed": true,
    "deletable": true,
    "editable": true
   },
   "outputs": [],
   "source": [
    "# Select target variable and feature space\n",
    "X = pd.get_dummies(df[[u'bus_line', u'direction', u'month', u'day_of_week',\n",
    "       u'hour', u'Conditions', u'Humidity', u'PrecipitationIn', \n",
    "       u'TemperatureF', u'VisibilityMPH', u'Wind SpeedMPH', u'totalInjuries', \n",
    "       u'pavementScore', u'potholeCount', u'prev_trip_ratio', u'ntwk_delay_lag1hr']])\n",
    "\n",
    "Y = df['delayBinom']\n",
    "\n",
    "X_train,X_test,y_train,y_test=train_test_split(X, Y, test_size=0.3, random_state=123)"
   ]
  },
  {
   "cell_type": "code",
   "execution_count": 17,
   "metadata": {
    "collapsed": false,
    "deletable": true,
    "editable": true
   },
   "outputs": [
    {
     "data": {
      "text/plain": [
       "{'max_depth': 11.777777777777779}"
      ]
     },
     "execution_count": 17,
     "metadata": {},
     "output_type": "execute_result"
    }
   ],
   "source": [
    "# Find best C parameter\n",
    "param_grid = {'max_depth': np.linspace(10,18,10)}\n",
    "dtc = DTC()\n",
    "C_param = GridSearchCV(dtc, param_grid, cv=5)\n",
    "C_param.fit(X_train, y_train)\n",
    "C_param.best_params_"
   ]
  },
  {
   "cell_type": "code",
   "execution_count": 18,
   "metadata": {
    "collapsed": false,
    "deletable": true,
    "editable": true
   },
   "outputs": [
    {
     "name": "stdout",
     "output_type": "stream",
     "text": [
      "Successfully (OS) predict 71.9705784767% of Bus Delays\n"
     ]
    }
   ],
   "source": [
    "# Cross validate using best C parameter\n",
    "avg_acc = []\n",
    "for i in range(10):\n",
    "    X_train, X_test, Y_train, Y_test = train_test_split(\n",
    "        X, Y, test_size=0.33, random_state=i) #Use random_state to fix samples\n",
    "    #X_train_dummies = pd.get_dummies(X_train)\n",
    "    #X_test_dummies = pd.get_dummies(X_test)\n",
    "\n",
    "    clf = DTC(max_depth=C_param.best_params_.values()[0]) \n",
    "    clf.fit(X_train, Y_train)\n",
    "\n",
    "    avg_acc.append(1.0*(clf.predict(X_test)==np.asarray(Y_test)).sum()/len(Y_test))\n",
    "\n",
    "print (\"Successfully (OS) predict {}% of Bus Delays\".format(np.mean(avg_acc)*100))"
   ]
  },
  {
   "cell_type": "code",
   "execution_count": 20,
   "metadata": {
    "collapsed": false,
    "deletable": true,
    "editable": true
   },
   "outputs": [
    {
     "data": {
      "text/plain": [
       "(array([0, 1]), array([212124,  47074]))"
      ]
     },
     "execution_count": 20,
     "metadata": {},
     "output_type": "execute_result"
    }
   ],
   "source": [
    "y_pred = clf.predict(X_test)\n",
    "np.unique(y_pred, return_counts=True)"
   ]
  },
  {
   "cell_type": "code",
   "execution_count": 21,
   "metadata": {
    "collapsed": false,
    "deletable": true,
    "editable": true
   },
   "outputs": [],
   "source": [
    "df_dummies = X.copy()\n",
    "df_dummies['delayBinom'] = Y.copy()\n",
    "delay_df = df_dummies.loc[df_dummies['delayBinom'] == 1]\n",
    "Y_delay = delay_df['delayBinom']\n",
    "X_delay = delay_df.iloc[:,:-1]"
   ]
  },
  {
   "cell_type": "code",
   "execution_count": 22,
   "metadata": {
    "collapsed": false,
    "deletable": true,
    "editable": true
   },
   "outputs": [
    {
     "data": {
      "text/plain": [
       "0.3630315183683206"
      ]
     },
     "execution_count": 22,
     "metadata": {},
     "output_type": "execute_result"
    }
   ],
   "source": [
    "1.0*(clf.predict(X_delay)==np.asarray(Y_delay)).sum()/len(Y_delay)"
   ]
  },
  {
   "cell_type": "markdown",
   "metadata": {
    "deletable": true,
    "editable": true
   },
   "source": [
    "#### Create Decision Tree Visualization"
   ]
  },
  {
   "cell_type": "code",
   "execution_count": 23,
   "metadata": {
    "collapsed": false,
    "deletable": true,
    "editable": true
   },
   "outputs": [
    {
     "data": {
      "text/html": [
       "<div>\n",
       "<table border=\"1\" class=\"dataframe\">\n",
       "  <thead>\n",
       "    <tr style=\"text-align: right;\">\n",
       "      <th></th>\n",
       "      <th>variables</th>\n",
       "      <th>importance</th>\n",
       "    </tr>\n",
       "  </thead>\n",
       "  <tbody>\n",
       "    <tr>\n",
       "      <th>2</th>\n",
       "      <td>hour</td>\n",
       "      <td>0.661436</td>\n",
       "    </tr>\n",
       "    <tr>\n",
       "      <th>9</th>\n",
       "      <td>pavementScore</td>\n",
       "      <td>0.0758304</td>\n",
       "    </tr>\n",
       "    <tr>\n",
       "      <th>11</th>\n",
       "      <td>prev_trip_ratio</td>\n",
       "      <td>0.0462882</td>\n",
       "    </tr>\n",
       "    <tr>\n",
       "      <th>10</th>\n",
       "      <td>potholeCount</td>\n",
       "      <td>0.0247867</td>\n",
       "    </tr>\n",
       "    <tr>\n",
       "      <th>0</th>\n",
       "      <td>direction</td>\n",
       "      <td>0.0200928</td>\n",
       "    </tr>\n",
       "    <tr>\n",
       "      <th>27</th>\n",
       "      <td>day_of_week_Sunday</td>\n",
       "      <td>0.0200559</td>\n",
       "    </tr>\n",
       "    <tr>\n",
       "      <th>26</th>\n",
       "      <td>day_of_week_Saturday</td>\n",
       "      <td>0.018727</td>\n",
       "    </tr>\n",
       "    <tr>\n",
       "      <th>1</th>\n",
       "      <td>month</td>\n",
       "      <td>0.0136018</td>\n",
       "    </tr>\n",
       "    <tr>\n",
       "      <th>49</th>\n",
       "      <td>ntwk_delay_lag1hr_4.0</td>\n",
       "      <td>0.0117596</td>\n",
       "    </tr>\n",
       "    <tr>\n",
       "      <th>46</th>\n",
       "      <td>ntwk_delay_lag1hr_1.0</td>\n",
       "      <td>0.0110934</td>\n",
       "    </tr>\n",
       "  </tbody>\n",
       "</table>\n",
       "</div>"
      ],
      "text/plain": [
       "                variables importance\n",
       "2                    hour   0.661436\n",
       "9           pavementScore  0.0758304\n",
       "11        prev_trip_ratio  0.0462882\n",
       "10           potholeCount  0.0247867\n",
       "0               direction  0.0200928\n",
       "27     day_of_week_Sunday  0.0200559\n",
       "26   day_of_week_Saturday   0.018727\n",
       "1                   month  0.0136018\n",
       "49  ntwk_delay_lag1hr_4.0  0.0117596\n",
       "46  ntwk_delay_lag1hr_1.0  0.0110934"
      ]
     },
     "execution_count": 23,
     "metadata": {},
     "output_type": "execute_result"
    }
   ],
   "source": [
    "Feature_importance=pd.DataFrame([list(X_train.columns),list(clf.feature_importances_)]).T\n",
    "Feature_importance.columns=[\"variables\",\"importance\"]\n",
    "Feature_importance.sort_values(by=\"importance\",ascending=False).iloc[:10,:]"
   ]
  },
  {
   "cell_type": "code",
   "execution_count": 54,
   "metadata": {
    "collapsed": true,
    "deletable": true,
    "editable": true
   },
   "outputs": [],
   "source": [
    "# Select target variable and feature space\n",
    "X_red = pd.get_dummies(df[[u'hour', u'pavementScore', u'prev_trip_ratio', 'potholeCount', 'direction']])\n",
    "\n",
    "Y = df['delayBinom']\n",
    "\n",
    "X_train,X_test,y_train,y_test=train_test_split(X_red, Y, test_size=0.3, random_state=123)"
   ]
  },
  {
   "cell_type": "code",
   "execution_count": 63,
   "metadata": {
    "collapsed": false,
    "deletable": true,
    "editable": true
   },
   "outputs": [
    {
     "name": "stdout",
     "output_type": "stream",
     "text": [
      "Successfully (OS) predict 70.7144731055% of Bus Delays\n"
     ]
    }
   ],
   "source": [
    "# Cross validate using best C parameter\n",
    "avg_acc = []\n",
    "for i in range(10):\n",
    "    X_train, X_test, Y_train, Y_test = train_test_split(\n",
    "        X_red, Y, test_size=0.33, random_state=i) #Use random_state to fix samples\n",
    "    X_train_dummies = pd.get_dummies(X_train)\n",
    "    X_test_dummies = pd.get_dummies(X_test)\n",
    "\n",
    "    clf = DTC(max_leaf_nodes=4) \n",
    "    clf.fit(X_train, Y_train)\n",
    "\n",
    "    avg_acc.append(1.0*(clf.predict(X_test_dummies)==np.asarray(Y_test)).sum()/len(Y_test))\n",
    "\n",
    "print (\"Successfully (OS) predict {}% of Bus Delays\".format(np.mean(avg_acc)*100))"
   ]
  },
  {
   "cell_type": "code",
   "execution_count": 64,
   "metadata": {
    "collapsed": false,
    "deletable": true,
    "editable": true
   },
   "outputs": [
    {
     "data": {
      "image/png": "[encoded data removed]",
      "text/plain": [
       "<IPython.core.display.Image object>"
      ]
     },
     "execution_count": 64,
     "metadata": {},
     "output_type": "execute_result"
    }
   ],
   "source": [
    "from sklearn.externals.six import StringIO  \n",
    "from sklearn import tree\n",
    "from IPython.display import Image  \n",
    "import pydotplus\n",
    "dot_data = StringIO()  \n",
    "tree.export_graphviz(clf, out_file=dot_data,  \n",
    "                         feature_names=[\"hour\", \"pavementScore\",\"prev_trip_ratio\", 'potholeCount', 'direction'],  \n",
    "                         class_names=[\"no delay\", \"delay\"],  \n",
    "                         filled=True, rounded=True,  \n",
    "                         special_characters=True)  \n",
    "graph = pydotplus.graph_from_dot_data(dot_data.getvalue())  \n",
    "Image(graph.create_png())  "
   ]
  },
  {
   "cell_type": "markdown",
   "metadata": {
    "collapsed": true,
    "deletable": true,
    "editable": true
   },
   "source": [
    "#### Confusion Matrix"
   ]
  },
  {
   "cell_type": "code",
   "execution_count": 45,
   "metadata": {
    "collapsed": true,
    "deletable": true,
    "editable": true
   },
   "outputs": [],
   "source": [
    "# Select target variable and feature space\n",
    "X = pd.get_dummies(df[[u'bus_line', u'direction', u'month', u'day_of_week',\n",
    "       u'hour', u'Conditions', u'Humidity', u'PrecipitationIn', \n",
    "       u'TemperatureF', u'VisibilityMPH', u'Wind SpeedMPH', u'totalInjuries', \n",
    "       u'pavementScore', u'potholeCount', u'prev_trip_ratio', u'ntwk_delay_lag1hr']])\n",
    "\n",
    "Y = df['delayBinom']\n",
    "\n",
    "X_train,X_test,y_train,y_test=train_test_split(X, Y, test_size=0.3, random_state=123)"
   ]
  },
  {
   "cell_type": "code",
   "execution_count": 47,
   "metadata": {
    "collapsed": false,
    "deletable": true,
    "editable": true
   },
   "outputs": [
    {
     "name": "stdout",
     "output_type": "stream",
     "text": [
      "Successfully (OS) predict 71.9260179477% of Bus Delays\n"
     ]
    }
   ],
   "source": [
    "# Cross validate using best C parameter\n",
    "avg_acc = []\n",
    "for i in range(10):\n",
    "    X_train, X_test, Y_train, Y_test = train_test_split(\n",
    "        X, Y, test_size=0.33, random_state=i) #Use random_state to fix samples\n",
    "    #X_train_dummies = pd.get_dummies(X_train)\n",
    "    #X_test_dummies = pd.get_dummies(X_test)\n",
    "\n",
    "    clf = DTC(max_depth=12) \n",
    "    clf.fit(X_train, Y_train)\n",
    "\n",
    "    avg_acc.append(1.0*(clf.predict(X_test)==np.asarray(Y_test)).sum()/len(Y_test))\n",
    "\n",
    "print (\"Successfully (OS) predict {}% of Bus Delays\".format(np.mean(avg_acc)*100))"
   ]
  },
  {
   "cell_type": "code",
   "execution_count": 48,
   "metadata": {
    "collapsed": true,
    "deletable": true,
    "editable": true
   },
   "outputs": [],
   "source": [
    "y_pred = clf.predict(X_test)"
   ]
  },
  {
   "cell_type": "code",
   "execution_count": null,
   "metadata": {
    "collapsed": true,
    "deletable": true,
    "editable": true
   },
   "outputs": [],
   "source": []
  },
  {
   "cell_type": "code",
   "execution_count": 53,
   "metadata": {
    "collapsed": false,
    "deletable": true,
    "editable": true
   },
   "outputs": [
    {
     "name": "stdout",
     "output_type": "stream",
     "text": [
      "Normalized confusion matrix\n",
      "[[ 0.9   0.1 ]\n",
      " [ 0.62  0.38]]\n"
     ]
    },
    {
     "data": {
      "image/png": "[encoded data removed]",
      "text/plain": [
       "<matplotlib.figure.Figure at 0x6cff9a6d0>"
      ]
     },
     "metadata": {},
     "output_type": "display_data"
    }
   ],
   "source": [
    "import itertools\n",
    "from sklearn.metrics import confusion_matrix\n",
    "\n",
    "\n",
    "class_names = ['no delay', 'delay']\n",
    "def plot_confusion_matrix(cm, classes,\n",
    "                          normalize=False,\n",
    "                          title='Confusion matrix',\n",
    "                          cmap=plt.cm.Blues):\n",
    "    \"\"\"\n",
    "    This function prints and plots the confusion matrix.\n",
    "    Normalization can be applied by setting `normalize=True`.\n",
    "    \"\"\"\n",
    "    plt.imshow(cm, interpolation='nearest', cmap=cmap)\n",
    "    plt.title(title)\n",
    "    plt.colorbar()\n",
    "    tick_marks = np.arange(len(classes))\n",
    "    plt.xticks(tick_marks, classes, rotation=45)\n",
    "    plt.yticks(tick_marks, classes)\n",
    "\n",
    "    if normalize:\n",
    "        cm = cm.astype('float') / cm.sum(axis=1)[:, np.newaxis]\n",
    "        print(\"Normalized confusion matrix\")\n",
    "    else:\n",
    "        print('Confusion matrix, without normalization')\n",
    "\n",
    "    print(cm)\n",
    "\n",
    "    thresh = cm.max() / 2.\n",
    "    for i, j in itertools.product(range(cm.shape[0]), range(cm.shape[1])):\n",
    "        plt.text(j, i, cm[i, j],\n",
    "                 horizontalalignment=\"center\",\n",
    "                 color=\"white\" if cm[i, j] > thresh else \"black\")\n",
    "\n",
    "    plt.tight_layout()\n",
    "    plt.ylabel('True label')\n",
    "    plt.xlabel('Predicted label')\n",
    "\n",
    "# Compute confusion matrix\n",
    "cnf_matrix = confusion_matrix(Y_test, y_pred)\n",
    "np.set_printoptions(precision=2)\n",
    "\n",
    "# Plot normalized confusion matrix\n",
    "plt.figure()\n",
    "plot_confusion_matrix(cnf_matrix, classes=class_names, normalize=True,\n",
    "                      title='Normalized confusion matrix')\n",
    "\n",
    "plt.show()"
   ]
  },
  {
   "cell_type": "code",
   "execution_count": 50,
   "metadata": {
    "collapsed": true,
    "deletable": true,
    "editable": true
   },
   "outputs": [],
   "source": []
  },
  {
   "cell_type": "code",
   "execution_count": null,
   "metadata": {
    "collapsed": true,
    "deletable": true,
    "editable": true
   },
   "outputs": [],
   "source": []
  }
 ],
 "metadata": {
  "anaconda-cloud": {},
  "kernelspec": {
   "display_name": "Python [default]",
   "language": "python",
   "name": "python2"
  },
  "language_info": {
   "codemirror_mode": {
    "name": "ipython",
    "version": 2
   },
   "file_extension": ".py",
   "mimetype": "text/x-python",
   "name": "python",
   "nbconvert_exporter": "python",
   "pygments_lexer": "ipython2",
   "version": "2.7.8"
  }
 },
 "nbformat": 4,
 "nbformat_minor": 2
}
