{
 "cells": [
  {
   "cell_type": "code",
   "execution_count": 1,
   "metadata": {
    "collapsed": false
   },
   "outputs": [],
   "source": [
    "import pandas as pd\n",
    "import numpy as np\n",
    "from pgmpy.estimators import ExhaustiveSearch, HillClimbSearch, BdeuScore, K2Score, BicScore, MaximumLikelihoodEstimator, BayesianEstimator\n",
    "from pgmpy.models import BayesianModel\n",
    "from scipy import stats\n",
    "import networkx as nx\n",
    "\n",
    "import matplotlib.pyplot as plt\n",
    "%matplotlib inline\n",
    "\n",
    "plt.rcParams['figure.figsize'] = (10.0, 8.0)\n"
   ]
  },
  {
   "cell_type": "code",
   "execution_count": 2,
   "metadata": {
    "collapsed": false
   },
   "outputs": [],
   "source": [
    "data = pd.read_csv('data/processed/bus_network_data.csv')\n",
    "features = [u'bus_line', u'direction',\n",
    "            #u'date',\n",
    "            u'month',\n",
    "            #u'day',\n",
    "            u'day_of_week',\n",
    "            u'time_period',\n",
    "            #u'hour',\n",
    "            #u'minute',\n",
    "            #u'trip_time', \n",
    "            #u'avg_trip_time',\n",
    "            #u'std_trip_time', \n",
    "            #u'delay_time',\n",
    "            u'delay', #this is our Y\n",
    "            u'Conditions', \n",
    "            #u'Humidity',\n",
    "            #u'PrecipitationIn',\n",
    "            #u'TemperatureF',\n",
    "            #u'VisibilityMPH',\n",
    "            #u'Wind SpeedMPH',\n",
    "            u'totalInjuries', # cur for networks pd.cut(5)\n",
    "            u'pavementScore', #\n",
    "            u'potholeCount', # \n",
    "            #u'prev_trip_ratio',\n",
    "            u'ntwk_delay_lag1hr']\n",
    "\n",
    "data = data.loc[:,features]\n",
    "data.dropna(inplace = True)"
   ]
  },
  {
   "cell_type": "code",
   "execution_count": 3,
   "metadata": {
    "collapsed": false
   },
   "outputs": [
    {
     "data": {
      "text/plain": [
       "(78545, 11)"
      ]
     },
     "execution_count": 3,
     "metadata": {},
     "output_type": "execute_result"
    }
   ],
   "source": [
    "data = data.sample(frac=0.1, replace=False)\n",
    "data.shape"
   ]
  },
  {
   "cell_type": "code",
   "execution_count": 4,
   "metadata": {
    "collapsed": false
   },
   "outputs": [],
   "source": [
    "data.totalInjuries = pd.cut(data.totalInjuries,3,labels=False)\n",
    "data.pavementScore = pd.cut(data.pavementScore,3,labels=False)\n",
    "data.potholeCount = pd.cut(data.potholeCount,3,labels=False)\n",
    "#data.prev_trip_ratio = pd.cut(data.prev_trip_ratio,5,labels=False)\n"
   ]
  },
  {
   "cell_type": "code",
   "execution_count": 5,
   "metadata": {
    "collapsed": false
   },
   "outputs": [
    {
     "data": {
      "text/html": [
       "<div>\n",
       "<table border=\"1\" class=\"dataframe\">\n",
       "  <thead>\n",
       "    <tr style=\"text-align: right;\">\n",
       "      <th></th>\n",
       "      <th>bus_line</th>\n",
       "      <th>direction</th>\n",
       "      <th>month</th>\n",
       "      <th>day_of_week</th>\n",
       "      <th>time_period</th>\n",
       "      <th>delay</th>\n",
       "      <th>Conditions</th>\n",
       "      <th>totalInjuries</th>\n",
       "      <th>pavementScore</th>\n",
       "      <th>potholeCount</th>\n",
       "      <th>ntwk_delay_lag1hr</th>\n",
       "    </tr>\n",
       "  </thead>\n",
       "  <tbody>\n",
       "    <tr>\n",
       "      <th>660500</th>\n",
       "      <td>B57</td>\n",
       "      <td>1.0</td>\n",
       "      <td>10</td>\n",
       "      <td>Monday</td>\n",
       "      <td>PeakPM</td>\n",
       "      <td>0</td>\n",
       "      <td>Mostly Cloudy</td>\n",
       "      <td>0</td>\n",
       "      <td>0</td>\n",
       "      <td>0</td>\n",
       "      <td>5.0</td>\n",
       "    </tr>\n",
       "    <tr>\n",
       "      <th>503596</th>\n",
       "      <td>B41</td>\n",
       "      <td>1.0</td>\n",
       "      <td>10</td>\n",
       "      <td>Saturday</td>\n",
       "      <td>MidDay</td>\n",
       "      <td>0</td>\n",
       "      <td>Light Rain</td>\n",
       "      <td>1</td>\n",
       "      <td>2</td>\n",
       "      <td>1</td>\n",
       "      <td>5.0</td>\n",
       "    </tr>\n",
       "    <tr>\n",
       "      <th>715714</th>\n",
       "      <td>B62</td>\n",
       "      <td>1.0</td>\n",
       "      <td>11</td>\n",
       "      <td>Thursday</td>\n",
       "      <td>PeakPM</td>\n",
       "      <td>0</td>\n",
       "      <td>Overcast</td>\n",
       "      <td>1</td>\n",
       "      <td>1</td>\n",
       "      <td>2</td>\n",
       "      <td>4.0</td>\n",
       "    </tr>\n",
       "    <tr>\n",
       "      <th>624993</th>\n",
       "      <td>B54</td>\n",
       "      <td>1.0</td>\n",
       "      <td>10</td>\n",
       "      <td>Monday</td>\n",
       "      <td>MidDay</td>\n",
       "      <td>0</td>\n",
       "      <td>Partly Cloudy</td>\n",
       "      <td>1</td>\n",
       "      <td>0</td>\n",
       "      <td>0</td>\n",
       "      <td>5.0</td>\n",
       "    </tr>\n",
       "    <tr>\n",
       "      <th>157419</th>\n",
       "      <td>B15</td>\n",
       "      <td>2.0</td>\n",
       "      <td>12</td>\n",
       "      <td>Monday</td>\n",
       "      <td>PeakPM</td>\n",
       "      <td>0</td>\n",
       "      <td>Scattered Clouds</td>\n",
       "      <td>2</td>\n",
       "      <td>2</td>\n",
       "      <td>1</td>\n",
       "      <td>0.0</td>\n",
       "    </tr>\n",
       "  </tbody>\n",
       "</table>\n",
       "</div>"
      ],
      "text/plain": [
       "       bus_line  direction  month day_of_week time_period  delay  \\\n",
       "660500      B57        1.0     10      Monday      PeakPM      0   \n",
       "503596      B41        1.0     10    Saturday      MidDay      0   \n",
       "715714      B62        1.0     11    Thursday      PeakPM      0   \n",
       "624993      B54        1.0     10      Monday      MidDay      0   \n",
       "157419      B15        2.0     12      Monday      PeakPM      0   \n",
       "\n",
       "              Conditions  totalInjuries  pavementScore  potholeCount  \\\n",
       "660500     Mostly Cloudy              0              0             0   \n",
       "503596        Light Rain              1              2             1   \n",
       "715714          Overcast              1              1             2   \n",
       "624993     Partly Cloudy              1              0             0   \n",
       "157419  Scattered Clouds              2              2             1   \n",
       "\n",
       "        ntwk_delay_lag1hr  \n",
       "660500                5.0  \n",
       "503596                5.0  \n",
       "715714                4.0  \n",
       "624993                5.0  \n",
       "157419                0.0  "
      ]
     },
     "execution_count": 5,
     "metadata": {},
     "output_type": "execute_result"
    }
   ],
   "source": [
    "data.head()"
   ]
  },
  {
   "cell_type": "markdown",
   "metadata": {},
   "source": [
    "# Naive Bayes"
   ]
  },
  {
   "cell_type": "code",
   "execution_count": null,
   "metadata": {
    "collapsed": false,
    "scrolled": true
   },
   "outputs": [],
   "source": [
    "#convert data to Naive Bayes compatible\n",
    "#factor variables\n",
    "dataNB = data.copy()\n",
    "dataNB['bus_lineCat'] = pd.Categorical(values=dataNB.bus_line,categories=dataNB.bus_line.unique(),ordered=False).codes\n",
    "dataNB['day_of_weekCat'] = pd.Categorical(values=dataNB.day_of_week,categories=dataNB.day_of_week.unique(),ordered=False).codes\n",
    "dataNB['time_periodCat'] = pd.Categorical(values=dataNB.time_period,categories=dataNB.time_period.unique(),ordered=False).codes\n",
    "dataNB['ConditionsCat'] = pd.Categorical(values=dataNB.Conditions,categories=dataNB.Conditions.unique(),ordered=False).codes\n",
    "\n",
    "dataNB['delayBinom'] = map(int,(dataNB.delay > 0))\n",
    "dataNB['direction'] = map(int,dataNB.direction)\n",
    "dataNB['ntwk_delay_lag1hr'] = map(int,dataNB.ntwk_delay_lag1hr)\n",
    "\n",
    "dataNB.head()\n"
   ]
  },
  {
   "cell_type": "code",
   "execution_count": null,
   "metadata": {
    "collapsed": false
   },
   "outputs": [],
   "source": [
    "dataNB.dtypes"
   ]
  },
  {
   "cell_type": "code",
   "execution_count": null,
   "metadata": {
    "collapsed": false
   },
   "outputs": [],
   "source": [
    "#split dataset into 60% training and 40% test \n",
    "np.random.seed(2015)\n",
    "variables = ['bus_lineCat',u'direction',\n",
    "             u'month', u'totalInjuries',\n",
    "             u'pavementScore', u'potholeCount', u'ntwk_delay_lag1hr',\n",
    "             'day_of_weekCat', 'time_periodCat', 'ConditionsCat']\n",
    "\n",
    "ind=stats.bernoulli.rvs(p = 0.5, size = len(data.index))\n",
    "\n",
    "X_train=dataNB.loc[ind==1,variables].values\n",
    "\n",
    "X_test=dataNB.loc[ind==0,variables].values\n",
    "\n",
    "Y_train = dataNB.loc[ind==1,['delay']].values\n",
    "Y_trainBinom = dataNB.loc[ind==1,['delayBinom']].values\n"
   ]
  },
  {
   "cell_type": "code",
   "execution_count": null,
   "metadata": {
    "collapsed": true
   },
   "outputs": [],
   "source": [
    "#its predicting all 0s"
   ]
  },
  {
   "cell_type": "code",
   "execution_count": null,
   "metadata": {
    "collapsed": false
   },
   "outputs": [],
   "source": [
    "from sklearn.naive_bayes import GaussianNB\n",
    "gnb = GaussianNB()\n",
    "\n",
    "modelBinom = gnb.fit(X_train,Y_trainBinom)\n",
    "modelBinom.predict(X_test).sum()\n"
   ]
  },
  {
   "cell_type": "code",
   "execution_count": null,
   "metadata": {
    "collapsed": false
   },
   "outputs": [],
   "source": [
    "from sklearn.naive_bayes import MultinomialNB\n",
    "clf = MultinomialNB()\n",
    "clf.fit(X_train, Y_train)\n",
    "clf.predict(X_test).sum()"
   ]
  },
  {
   "cell_type": "code",
   "execution_count": null,
   "metadata": {
    "collapsed": true
   },
   "outputs": [],
   "source": []
  },
  {
   "cell_type": "markdown",
   "metadata": {
    "collapsed": true
   },
   "source": [
    "# Bayesian network"
   ]
  },
  {
   "cell_type": "code",
   "execution_count": 8,
   "metadata": {
    "collapsed": false
   },
   "outputs": [
    {
     "data": {
      "text/plain": [
       "Monday       11973\n",
       "Friday       11811\n",
       "Tuesday      11730\n",
       "Wednesday    11633\n",
       "Thursday     11538\n",
       "Saturday     10252\n",
       "Sunday        9608\n",
       "Name: day_of_week, dtype: int64"
      ]
     },
     "execution_count": 8,
     "metadata": {},
     "output_type": "execute_result"
    }
   ],
   "source": [
    "data.day_of_week.value_counts()"
   ]
  },
  {
   "cell_type": "code",
   "execution_count": 13,
   "metadata": {
    "collapsed": false
   },
   "outputs": [],
   "source": [
    "data['weekend'] = ((data.day_of_week == 'Saturday') | (data.day_of_week == 'Saturday'))\n",
    "data.weekend = data.weekend.map(lambda x: int(x))\n",
    "data.drop(['day_of_week'],axis=1,inplace=True)"
   ]
  },
  {
   "cell_type": "code",
   "execution_count": 14,
   "metadata": {
    "collapsed": false
   },
   "outputs": [
    {
     "data": {
      "text/plain": [
       "[(u'bus_line', 'delay'),\n",
       " (u'direction', 'delay'),\n",
       " (u'month', 'delay'),\n",
       " (u'time_period', 'delay'),\n",
       " (u'Conditions', 'delay'),\n",
       " (u'totalInjuries', 'delay'),\n",
       " (u'pavementScore', 'delay'),\n",
       " (u'potholeCount', 'delay'),\n",
       " (u'ntwk_delay_lag1hr', 'delay'),\n",
       " ('weekend', 'delay')]"
      ]
     },
     "execution_count": 14,
     "metadata": {},
     "output_type": "execute_result"
    }
   ],
   "source": [
    "bayNet = []\n",
    "for variable in  data.columns:\n",
    "    if variable != 'delay':\n",
    "        tupla = (variable,'delay')\n",
    "        bayNet.append(tupla)\n",
    "bayNet"
   ]
  },
  {
   "cell_type": "code",
   "execution_count": 15,
   "metadata": {
    "collapsed": false
   },
   "outputs": [
    {
     "data": {
      "text/plain": [
       "<pgmpy.models.BayesianModel.BayesianModel at 0x7f2b8a2b6ed0>"
      ]
     },
     "execution_count": 15,
     "metadata": {},
     "output_type": "execute_result"
    }
   ],
   "source": [
    "model = BayesianModel(bayNet)\n",
    "model\n"
   ]
  },
  {
   "cell_type": "code",
   "execution_count": null,
   "metadata": {
    "collapsed": true
   },
   "outputs": [],
   "source": [
    "# Learing CPDs using Maximum Likelihood Estimators\n",
    "model.fit(data, estimator=MaximumLikelihoodEstimator)\n"
   ]
  },
  {
   "cell_type": "code",
   "execution_count": null,
   "metadata": {
    "collapsed": true
   },
   "outputs": [],
   "source": [
    "for cpd in model.get_cpds():\n",
    "    print(\"CPD of {variable}:\".format(variable=cpd.variable))\n",
    "    print(cpd)\n",
    "print model.get_independencies()"
   ]
  },
  {
   "cell_type": "markdown",
   "metadata": {},
   "source": [
    "# Learn structure from data"
   ]
  },
  {
   "cell_type": "code",
   "execution_count": null,
   "metadata": {
    "collapsed": true
   },
   "outputs": [],
   "source": [
    "#hc = HillClimbSearch(data, scoring_method=BicScore(data))\n",
    "#best_model = hc.estimate()\n",
    "#print(best_model.edges())"
   ]
  },
  {
   "cell_type": "code",
   "execution_count": null,
   "metadata": {
    "collapsed": true
   },
   "outputs": [],
   "source": [
    "bayNet20 = [(u'direction', u'delay'), (u'bus_line', u'delay'), (u'bus_line', u'pavementScore'), (u'bus_line', u'direction'), (u'bus_line', u'totalInjuries'), (u'day_of_week', u'time_period'), (u'day_of_week', u'Conditions'), (u'day_of_week', u'ntwk_delay_lag1hr'), (u'day_of_week', u'month'), (u'month', u'totalInjuries'), (u'delay', u'ntwk_delay_lag1hr'), (u'potholeCount', u'bus_line'), (u'time_period', u'potholeCount'), (u'time_period', u'direction'), (u'time_period', u'Conditions'), (u'time_period', u'ntwk_delay_lag1hr'), (u'Conditions', u'month')]\n",
    "bayNet40 = [(u'pavementScore', u'bus_line'), (u'bus_line', u'potholeCount'), (u'bus_line', u'delay'), (u'bus_line', u'direction'), (u'bus_line', u'ntwk_delay_lag1hr'), (u'bus_line', u'totalInjuries'), (u'day_of_week', u'time_period'), (u'day_of_week', u'Conditions'), (u'month', u'time_period'), (u'month', u'Conditions'), (u'month', u'day_of_week'), (u'month', u'totalInjuries'), (u'delay', u'direction'), (u'delay', u'ntwk_delay_lag1hr'), (u'time_period', u'direction'), (u'time_period', u'Conditions'), (u'ntwk_delay_lag1hr', u'time_period'), (u'ntwk_delay_lag1hr', u'day_of_week'), (u'ntwk_delay_lag1hr', u'month')]\n"
   ]
  },
  {
   "cell_type": "markdown",
   "metadata": {},
   "source": [
    "# Ploting"
   ]
  },
  {
   "cell_type": "code",
   "execution_count": null,
   "metadata": {
    "collapsed": false
   },
   "outputs": [],
   "source": [
    "#https://networkx.readthedocs.io/en/stable/tutorial/index.html\n",
    "G=nx.DiGraph()\n",
    "G.add_edges_from(bayNet20)\n",
    "print(list(G.nodes()))\n",
    "print(list(G.edges()))"
   ]
  },
  {
   "cell_type": "code",
   "execution_count": null,
   "metadata": {
    "collapsed": false
   },
   "outputs": [],
   "source": [
    "pos = nx.spectral_layout(G)\n",
    "nx.draw_networkx_nodes(G, pos,node_color='blue',node_size =3000,nodelist=G.nodes())\n",
    "nx.draw_networkx_labels(G,pos=pos)\n",
    "nx.draw_networkx_edges(G,pos=pos,arrows=True)\n",
    "plt.axis('off')"
   ]
  },
  {
   "cell_type": "code",
   "execution_count": null,
   "metadata": {
    "collapsed": true
   },
   "outputs": [],
   "source": [
    "# Defining the model\n",
    "\n",
    "model = BayesianModel(best_model.edges())\n",
    "\n",
    "# Learing CPDs using Maximum Likelihood Estimators\n",
    "model.fit(data, estimator=MaximumLikelihoodEstimator)\n",
    "for cpd in model.get_cpds():\n",
    "    print(\"CPD of {variable}:\".format(variable=cpd.variable))\n",
    "    print(cpd)\n",
    "print model.get_independencies()"
   ]
  },
  {
   "cell_type": "code",
   "execution_count": null,
   "metadata": {
    "collapsed": true
   },
   "outputs": [],
   "source": [
    "# predecir valores\n",
    "infer.map_query('G', evidence={'D': 0, 'I': 1})"
   ]
  },
  {
   "cell_type": "code",
   "execution_count": null,
   "metadata": {
    "collapsed": true
   },
   "outputs": [],
   "source": [
    "#probar diferentes scores"
   ]
  },
  {
   "cell_type": "code",
   "execution_count": null,
   "metadata": {
    "collapsed": true
   },
   "outputs": [],
   "source": [
    "es = ExhaustiveSearch(data, scoring_method=bic)\n",
    "best_model = es.estimate()\n",
    "print(best_model.edges())\n",
    "\n",
    "\n"
   ]
  }
 ],
 "metadata": {
  "anaconda-cloud": {},
  "kernelspec": {
   "display_name": "Python 2",
   "language": "python",
   "name": "python2"
  },
  "language_info": {
   "codemirror_mode": {
    "name": "ipython",
    "version": 2
   },
   "file_extension": ".py",
   "mimetype": "text/x-python",
   "name": "python",
   "nbconvert_exporter": "python",
   "pygments_lexer": "ipython2",
   "version": "2.7.13"
  }
 },
 "nbformat": 4,
 "nbformat_minor": 1
}
