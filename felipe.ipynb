{
 "cells": [
  {
   "cell_type": "code",
   "execution_count": null,
   "metadata": {
    "collapsed": true
   },
   "outputs": [],
   "source": [
    "import pandas as pd\n",
    "from pgmpy.estimators import ExhaustiveSearch, HillClimbSearch, BdeuScore, K2Score, BicScore\n"
   ]
  },
  {
   "cell_type": "code",
   "execution_count": null,
   "metadata": {
    "collapsed": false
   },
   "outputs": [],
   "source": [
    "data = pd.read_csv('data/processed/bus_network_data.csv')\n",
    "features = [u'bus_line', u'direction',\n",
    "            #u'date',\n",
    "            u'month',\n",
    "            #u'day',\n",
    "            u'day_of_week',\n",
    "            u'time_period',\n",
    "            u'hour',\n",
    "            #u'minute',\n",
    "            #u'trip_time', \n",
    "            #u'avg_trip_time',\n",
    "            #u'std_trip_time', \n",
    "            #u'delay_time',\n",
    "            u'delay', #this is our Y\n",
    "            u'Conditions', \n",
    "            #u'Humidity',\n",
    "            #u'PrecipitationIn',\n",
    "            #u'TemperatureF',\n",
    "            #u'VisibilityMPH',\n",
    "            #u'Wind SpeedMPH',\n",
    "            u'totalInjuries', # cur for networks pd.cut(5)\n",
    "            u'pavementScore', #\n",
    "            u'potholeCount', # \n",
    "            u'prev_trip_ratio',\n",
    "            u'ntwk_delay_lag1hr']\n",
    "\n",
    "data = data.loc[:,features]\n",
    "data.dropna(inplace = True)\n",
    "data.head()\n"
   ]
  },
  {
   "cell_type": "markdown",
   "metadata": {
    "collapsed": true
   },
   "source": [
    "# Bayesian network"
   ]
  },
  {
   "cell_type": "code",
   "execution_count": null,
   "metadata": {
    "collapsed": false
   },
   "outputs": [],
   "source": [
    "# create X\n",
    "#X = data.dropna().values\n"
   ]
  },
  {
   "cell_type": "code",
   "execution_count": null,
   "metadata": {
    "collapsed": true
   },
   "outputs": [],
   "source": [
    "\n",
    "\n",
    "hc = HillClimbSearch(data, scoring_method=BicScore(data))\n",
    "best_model = hc.estimate()\n",
    "print(best_model.edges())"
   ]
  },
  {
   "cell_type": "code",
   "execution_count": null,
   "metadata": {
    "collapsed": true
   },
   "outputs": [],
   "source": [
    "# Defining the model\n",
    "from pgmpy.models import BayesianModel\n",
    "from pgmpy.estimators import MaximumLikelihoodEstimator, BayesianEstimator\n",
    "\n",
    "model = BayesianModel(best_model.edges())\n",
    "\n",
    "# Learing CPDs using Maximum Likelihood Estimators\n",
    "model.fit(data, estimator=MaximumLikelihoodEstimator)\n",
    "for cpd in model.get_cpds():\n",
    "    print(\"CPD of {variable}:\".format(variable=cpd.variable))\n",
    "    print(cpd)\n",
    "print model.get_independencies()"
   ]
  },
  {
   "cell_type": "code",
   "execution_count": null,
   "metadata": {
    "collapsed": true
   },
   "outputs": [],
   "source": [
    "# predecir valores\n",
    "infer.map_query('G', evidence={'D': 0, 'I': 1})"
   ]
  },
  {
   "cell_type": "code",
   "execution_count": null,
   "metadata": {
    "collapsed": true
   },
   "outputs": [],
   "source": [
    "#probar diferentes scores"
   ]
  },
  {
   "cell_type": "code",
   "execution_count": null,
   "metadata": {
    "collapsed": true
   },
   "outputs": [],
   "source": [
    "es = ExhaustiveSearch(data, scoring_method=bic)\n",
    "best_model = es.estimate()\n",
    "print(best_model.edges())\n",
    "\n",
    "\n"
   ]
  }
 ],
 "metadata": {
  "anaconda-cloud": {},
  "kernelspec": {
   "display_name": "Python [conda root]",
   "language": "python",
   "name": "conda-root-py"
  },
  "language_info": {
   "codemirror_mode": {
    "name": "ipython",
    "version": 2
   },
   "file_extension": ".py",
   "mimetype": "text/x-python",
   "name": "python",
   "nbconvert_exporter": "python",
   "pygments_lexer": "ipython2",
   "version": "2.7.12"
  }
 },
 "nbformat": 4,
 "nbformat_minor": 1
}
