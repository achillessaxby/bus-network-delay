{
 "cells": [
  {
   "cell_type": "code",
   "execution_count": 1,
   "metadata": {
    "collapsed": true,
    "deletable": true,
    "editable": true
   },
   "outputs": [],
   "source": [
    "# Import Necessary Packages\n",
    "import pandas as pd\n",
    "from shapely.geometry import Point\n",
    "import geopandas as gpd\n",
    "import seaborn\n",
    "import matplotlib.pyplot as plt\n",
    "%matplotlib inline"
   ]
  },
  {
   "cell_type": "code",
   "execution_count": 2,
   "metadata": {
    "collapsed": false,
    "deletable": true,
    "editable": true
   },
   "outputs": [],
   "source": [
    "# Import datasets\n",
    "delay = pd.read_csv('data/processed/bus_network_data.csv', index_col=0)\n",
    "bus_lines = gpd.read_file('data/external/routes_bus_nyc_jan2017/routes_bus_nyc_jan2017.shp')\n",
    "bus_lines = bus_lines.to_crs({'init' :'epsg:4326'})"
   ]
  },
  {
   "cell_type": "code",
   "execution_count": 3,
   "metadata": {
    "collapsed": false,
    "deletable": true,
    "editable": true
   },
   "outputs": [
    {
     "data": {
      "text/html": [
       "<div>\n",
       "<table border=\"1\" class=\"dataframe\">\n",
       "  <thead>\n",
       "    <tr style=\"text-align: right;\">\n",
       "      <th></th>\n",
       "      <th>bus_line</th>\n",
       "      <th>ntwk_delay_lag1hr</th>\n",
       "      <th>delay_time</th>\n",
       "    </tr>\n",
       "  </thead>\n",
       "  <tbody>\n",
       "    <tr>\n",
       "      <th>0</th>\n",
       "      <td>B11</td>\n",
       "      <td>0.0</td>\n",
       "      <td>1.495001</td>\n",
       "    </tr>\n",
       "    <tr>\n",
       "      <th>1</th>\n",
       "      <td>B11</td>\n",
       "      <td>1.0</td>\n",
       "      <td>6.756097</td>\n",
       "    </tr>\n",
       "    <tr>\n",
       "      <th>2</th>\n",
       "      <td>B11</td>\n",
       "      <td>2.0</td>\n",
       "      <td>-3.026088</td>\n",
       "    </tr>\n",
       "    <tr>\n",
       "      <th>3</th>\n",
       "      <td>B11</td>\n",
       "      <td>3.0</td>\n",
       "      <td>7.563187</td>\n",
       "    </tr>\n",
       "    <tr>\n",
       "      <th>4</th>\n",
       "      <td>B11</td>\n",
       "      <td>4.0</td>\n",
       "      <td>-6.908344</td>\n",
       "    </tr>\n",
       "    <tr>\n",
       "      <th>5</th>\n",
       "      <td>B11</td>\n",
       "      <td>5.0</td>\n",
       "      <td>-2.921993</td>\n",
       "    </tr>\n",
       "    <tr>\n",
       "      <th>6</th>\n",
       "      <td>B15</td>\n",
       "      <td>0.0</td>\n",
       "      <td>1.000821</td>\n",
       "    </tr>\n",
       "    <tr>\n",
       "      <th>7</th>\n",
       "      <td>B15</td>\n",
       "      <td>1.0</td>\n",
       "      <td>10.458275</td>\n",
       "    </tr>\n",
       "    <tr>\n",
       "      <th>8</th>\n",
       "      <td>B15</td>\n",
       "      <td>2.0</td>\n",
       "      <td>-3.164763</td>\n",
       "    </tr>\n",
       "    <tr>\n",
       "      <th>9</th>\n",
       "      <td>B15</td>\n",
       "      <td>3.0</td>\n",
       "      <td>8.004271</td>\n",
       "    </tr>\n",
       "    <tr>\n",
       "      <th>10</th>\n",
       "      <td>B15</td>\n",
       "      <td>4.0</td>\n",
       "      <td>-4.508264</td>\n",
       "    </tr>\n",
       "    <tr>\n",
       "      <th>11</th>\n",
       "      <td>B15</td>\n",
       "      <td>5.0</td>\n",
       "      <td>-2.458713</td>\n",
       "    </tr>\n",
       "  </tbody>\n",
       "</table>\n",
       "</div>"
      ],
      "text/plain": [
       "   bus_line  ntwk_delay_lag1hr  delay_time\n",
       "0       B11                0.0    1.495001\n",
       "1       B11                1.0    6.756097\n",
       "2       B11                2.0   -3.026088\n",
       "3       B11                3.0    7.563187\n",
       "4       B11                4.0   -6.908344\n",
       "5       B11                5.0   -2.921993\n",
       "6       B15                0.0    1.000821\n",
       "7       B15                1.0   10.458275\n",
       "8       B15                2.0   -3.164763\n",
       "9       B15                3.0    8.004271\n",
       "10      B15                4.0   -4.508264\n",
       "11      B15                5.0   -2.458713"
      ]
     },
     "execution_count": 3,
     "metadata": {},
     "output_type": "execute_result"
    }
   ],
   "source": [
    "delay = delay[['bus_line', 'ntwk_delay_lag1hr', 'delay_time']]\n",
    "delay_grouped = delay.groupby(['bus_line', 'ntwk_delay_lag1hr']).mean().reset_index()\n",
    "delay_grouped.head(12)"
   ]
  },
  {
   "cell_type": "code",
   "execution_count": 4,
   "metadata": {
    "collapsed": false,
    "deletable": true,
    "editable": true
   },
   "outputs": [],
   "source": [
    "ntwk_delay = pd.merge(delay_grouped, bus_lines, how='left', left_on='bus_line', right_on='route_id')\n",
    "ntwk_delay.drop(['route_id', 'color', 'dir_id', 'route_dir', 'route_long', 'route_shor'], axis=1, inplace=True)"
   ]
  },
  {
   "cell_type": "code",
   "execution_count": 5,
   "metadata": {
    "collapsed": false,
    "deletable": true,
    "editable": true
   },
   "outputs": [],
   "source": [
    "ntwk_delay_0 = ntwk_delay.loc[ntwk_delay['ntwk_delay_lag1hr'] == 0]\n",
    "ntwk_delay_1 = ntwk_delay.loc[ntwk_delay['ntwk_delay_lag1hr'] == 1]\n",
    "ntwk_delay_2 = ntwk_delay.loc[ntwk_delay['ntwk_delay_lag1hr'] == 2]\n",
    "ntwk_delay_3 = ntwk_delay.loc[ntwk_delay['ntwk_delay_lag1hr'] == 3]\n",
    "ntwk_delay_4 = ntwk_delay.loc[ntwk_delay['ntwk_delay_lag1hr'] == 4]\n",
    "ntwk_delay_5 = ntwk_delay.loc[ntwk_delay['ntwk_delay_lag1hr'] == 5]"
   ]
  },
  {
   "cell_type": "code",
   "execution_count": 6,
   "metadata": {
    "collapsed": false,
    "deletable": true,
    "editable": true
   },
   "outputs": [],
   "source": [
    "crs = {'init': 'epsg:4326'}\n",
    "ntwk_delay_0 = gpd.GeoDataFrame(ntwk_delay_0, crs=crs, geometry=ntwk_delay_0.geometry)\n",
    "ntwk_delay_1 = gpd.GeoDataFrame(ntwk_delay_1, crs=crs, geometry=ntwk_delay_1.geometry)\n",
    "ntwk_delay_2 = gpd.GeoDataFrame(ntwk_delay_2, crs=crs, geometry=ntwk_delay_2.geometry)\n",
    "ntwk_delay_3 = gpd.GeoDataFrame(ntwk_delay_3, crs=crs, geometry=ntwk_delay_3.geometry)\n",
    "ntwk_delay_4 = gpd.GeoDataFrame(ntwk_delay_4, crs=crs, geometry=ntwk_delay_4.geometry)\n",
    "ntwk_delay_5 = gpd.GeoDataFrame(ntwk_delay_5, crs=crs, geometry=ntwk_delay_5.geometry)"
   ]
  },
  {
   "cell_type": "code",
   "execution_count": 7,
   "metadata": {
    "collapsed": false,
    "deletable": true,
    "editable": true
   },
   "outputs": [],
   "source": [
    "ntwk_delay_0.to_file('data/external/routes_bus_nyc_jan2017/ntwk_delay_0.shp')\n",
    "ntwk_delay_1.to_file('data/external/routes_bus_nyc_jan2017/ntwk_delay_1.shp')\n",
    "ntwk_delay_2.to_file('data/external/routes_bus_nyc_jan2017/ntwk_delay_2.shp')\n",
    "ntwk_delay_3.to_file('data/external/routes_bus_nyc_jan2017/ntwk_delay_3.shp')\n",
    "ntwk_delay_4.to_file('data/external/routes_bus_nyc_jan2017/ntwk_delay_4.shp')\n",
    "ntwk_delay_5.to_file('data/external/routes_bus_nyc_jan2017/ntwk_delay_5.shp')"
   ]
  },
  {
   "cell_type": "code",
   "execution_count": 8,
   "metadata": {
    "collapsed": true
   },
   "outputs": [],
   "source": [
    "ct = gpd.read_file('data/external/nyct2010_17a/nyct2010.shp')\n",
    "ct = ct.to_crs({'init' :'epsg:4326'})"
   ]
  },
  {
   "cell_type": "code",
   "execution_count": 9,
   "metadata": {
    "collapsed": false
   },
   "outputs": [],
   "source": [
    "ct_bklyn = ct.loc[ct['BoroName'].isin(['Brooklyn', 'Queens'])]"
   ]
  },
  {
   "cell_type": "code",
   "execution_count": 10,
   "metadata": {
    "collapsed": false
   },
   "outputs": [],
   "source": [
    "ct_bklyn.to_file('data/external/nyct2010_17a/nyct_bklyn2010.shp')"
   ]
  },
  {
   "cell_type": "code",
   "execution_count": 11,
   "metadata": {
    "collapsed": false
   },
   "outputs": [],
   "source": [
    "ct.to_file('data/external/nyct2010_17a/nyct2010.shp')"
   ]
  },
  {
   "cell_type": "code",
   "execution_count": null,
   "metadata": {
    "collapsed": true
   },
   "outputs": [],
   "source": []
  }
 ],
 "metadata": {
  "anaconda-cloud": {},
  "kernelspec": {
   "display_name": "Python [default]",
   "language": "python",
   "name": "python2"
  },
  "language_info": {
   "codemirror_mode": {
    "name": "ipython",
    "version": 2
   },
   "file_extension": ".py",
   "mimetype": "text/x-python",
   "name": "python",
   "nbconvert_exporter": "python",
   "pygments_lexer": "ipython2",
   "version": "2.7.8"
  }
 },
 "nbformat": 4,
 "nbformat_minor": 2
}
