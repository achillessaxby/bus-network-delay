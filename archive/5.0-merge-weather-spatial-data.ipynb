{
 "cells": [
  {
   "cell_type": "markdown",
   "metadata": {
    "deletable": true,
    "editable": true
   },
   "source": [
    "# Merge Weather and Spatial Data\n",
    "#### Daniel Fay"
   ]
  },
  {
   "cell_type": "markdown",
   "metadata": {
    "deletable": true,
    "editable": true
   },
   "source": [
    "### Merge Weather Data"
   ]
  },
  {
   "cell_type": "code",
   "execution_count": 24,
   "metadata": {
    "collapsed": true,
    "deletable": true,
    "editable": true
   },
   "outputs": [],
   "source": [
    "import pandas as pd"
   ]
  },
  {
   "cell_type": "code",
   "execution_count": 25,
   "metadata": {
    "collapsed": true,
    "deletable": true,
    "editable": true
   },
   "outputs": [],
   "source": [
    "bus = pd.read_csv('data/interim/bus_times_delay.csv', index_col=0, low_memory=False)\n",
    "weather = pd.read_csv('data/external/nyc_weather_2016.csv', index_col=0)"
   ]
  },
  {
   "cell_type": "code",
   "execution_count": 26,
   "metadata": {
    "collapsed": false,
    "deletable": true,
    "editable": true
   },
   "outputs": [
    {
     "data": {
      "text/plain": [
       "Index([u'Conditions', u'DateUTC', u'Dew PointF', u'Events', u'Gust SpeedMPH',\n",
       "       u'Humidity', u'PrecipitationIn', u'Sea Level PressureIn',\n",
       "       u'TemperatureF', u'TimeEDT', u'TimeEST', u'VisibilityMPH',\n",
       "       u'Wind Direction', u'Wind SpeedMPH', u'WindDirDegrees'],\n",
       "      dtype='object')"
      ]
     },
     "execution_count": 26,
     "metadata": {},
     "output_type": "execute_result"
    }
   ],
   "source": [
    "weather.columns"
   ]
  },
  {
   "cell_type": "code",
   "execution_count": 27,
   "metadata": {
    "collapsed": true,
    "deletable": true,
    "editable": true
   },
   "outputs": [],
   "source": [
    "weather = weather[[u'Conditions', u'DateUTC', u'Humidity', u'PrecipitationIn', \\\n",
    "                   u'TemperatureF', u'VisibilityMPH', u'Wind SpeedMPH']]"
   ]
  },
  {
   "cell_type": "code",
   "execution_count": 28,
   "metadata": {
    "collapsed": false,
    "deletable": true,
    "editable": true
   },
   "outputs": [
    {
     "data": {
      "text/html": [
       "<div>\n",
       "<table border=\"1\" class=\"dataframe\">\n",
       "  <thead>\n",
       "    <tr style=\"text-align: right;\">\n",
       "      <th></th>\n",
       "      <th>Conditions</th>\n",
       "      <th>Humidity</th>\n",
       "      <th>PrecipitationIn</th>\n",
       "      <th>TemperatureF</th>\n",
       "      <th>VisibilityMPH</th>\n",
       "      <th>Wind SpeedMPH</th>\n",
       "      <th>hour</th>\n",
       "      <th>month</th>\n",
       "      <th>day</th>\n",
       "    </tr>\n",
       "  </thead>\n",
       "  <tbody>\n",
       "    <tr>\n",
       "      <th>0</th>\n",
       "      <td>Overcast</td>\n",
       "      <td>51.0</td>\n",
       "      <td>NaN</td>\n",
       "      <td>42.1</td>\n",
       "      <td>10.0</td>\n",
       "      <td>4.6</td>\n",
       "      <td>5</td>\n",
       "      <td>1</td>\n",
       "      <td>1</td>\n",
       "    </tr>\n",
       "    <tr>\n",
       "      <th>1</th>\n",
       "      <td>Overcast</td>\n",
       "      <td>53.0</td>\n",
       "      <td>NaN</td>\n",
       "      <td>41.0</td>\n",
       "      <td>10.0</td>\n",
       "      <td>3.5</td>\n",
       "      <td>6</td>\n",
       "      <td>1</td>\n",
       "      <td>1</td>\n",
       "    </tr>\n",
       "    <tr>\n",
       "      <th>2</th>\n",
       "      <td>Overcast</td>\n",
       "      <td>55.0</td>\n",
       "      <td>NaN</td>\n",
       "      <td>41.0</td>\n",
       "      <td>10.0</td>\n",
       "      <td>4.6</td>\n",
       "      <td>7</td>\n",
       "      <td>1</td>\n",
       "      <td>1</td>\n",
       "    </tr>\n",
       "    <tr>\n",
       "      <th>3</th>\n",
       "      <td>Overcast</td>\n",
       "      <td>55.0</td>\n",
       "      <td>NaN</td>\n",
       "      <td>41.0</td>\n",
       "      <td>10.0</td>\n",
       "      <td>9.2</td>\n",
       "      <td>8</td>\n",
       "      <td>1</td>\n",
       "      <td>1</td>\n",
       "    </tr>\n",
       "    <tr>\n",
       "      <th>4</th>\n",
       "      <td>Overcast</td>\n",
       "      <td>58.0</td>\n",
       "      <td>NaN</td>\n",
       "      <td>39.9</td>\n",
       "      <td>10.0</td>\n",
       "      <td>10.4</td>\n",
       "      <td>9</td>\n",
       "      <td>1</td>\n",
       "      <td>1</td>\n",
       "    </tr>\n",
       "  </tbody>\n",
       "</table>\n",
       "</div>"
      ],
      "text/plain": [
       "  Conditions  Humidity  PrecipitationIn  TemperatureF  VisibilityMPH  \\\n",
       "0   Overcast      51.0              NaN          42.1           10.0   \n",
       "1   Overcast      53.0              NaN          41.0           10.0   \n",
       "2   Overcast      55.0              NaN          41.0           10.0   \n",
       "3   Overcast      55.0              NaN          41.0           10.0   \n",
       "4   Overcast      58.0              NaN          39.9           10.0   \n",
       "\n",
       "  Wind SpeedMPH  hour  month  day  \n",
       "0           4.6     5      1    1  \n",
       "1           3.5     6      1    1  \n",
       "2           4.6     7      1    1  \n",
       "3           9.2     8      1    1  \n",
       "4          10.4     9      1    1  "
      ]
     },
     "execution_count": 28,
     "metadata": {},
     "output_type": "execute_result"
    }
   ],
   "source": [
    "weather['DateUTC'] = pd.to_datetime(weather['DateUTC'])\n",
    "weather['hour'] = weather['DateUTC'].dt.hour\n",
    "weather['month'] = weather['DateUTC'].dt.month\n",
    "weather['day'] = weather['DateUTC'].dt.day\n",
    "weather.drop('DateUTC', axis=1, inplace=True)\n",
    "weather.head()"
   ]
  },
  {
   "cell_type": "code",
   "execution_count": 29,
   "metadata": {
    "collapsed": false,
    "deletable": true,
    "editable": true
   },
   "outputs": [],
   "source": [
    "weather.drop_duplicates(['hour','month','day'],inplace=True)"
   ]
  },
  {
   "cell_type": "code",
   "execution_count": 30,
   "metadata": {
    "collapsed": false,
    "deletable": true,
    "editable": true
   },
   "outputs": [
    {
     "data": {
      "text/html": [
       "<div>\n",
       "<table border=\"1\" class=\"dataframe\">\n",
       "  <thead>\n",
       "    <tr style=\"text-align: right;\">\n",
       "      <th></th>\n",
       "      <th>bus_line</th>\n",
       "      <th>trip_time</th>\n",
       "      <th>begin_time</th>\n",
       "      <th>day_of_week</th>\n",
       "      <th>month</th>\n",
       "      <th>hour</th>\n",
       "      <th>date</th>\n",
       "      <th>day</th>\n",
       "      <th>time_period</th>\n",
       "      <th>avg_trip_time</th>\n",
       "      <th>std_trip_time</th>\n",
       "      <th>delay</th>\n",
       "    </tr>\n",
       "  </thead>\n",
       "  <tbody>\n",
       "    <tr>\n",
       "      <th>0</th>\n",
       "      <td>B11</td>\n",
       "      <td>67.633333</td>\n",
       "      <td>2016-01-01 00:00:13</td>\n",
       "      <td>Friday</td>\n",
       "      <td>1</td>\n",
       "      <td>0</td>\n",
       "      <td>2016-01-01</td>\n",
       "      <td>1</td>\n",
       "      <td>Night</td>\n",
       "      <td>61.446225</td>\n",
       "      <td>19.036123</td>\n",
       "      <td>0</td>\n",
       "    </tr>\n",
       "    <tr>\n",
       "      <th>1</th>\n",
       "      <td>B11</td>\n",
       "      <td>36.066667</td>\n",
       "      <td>2016-01-01 00:00:14</td>\n",
       "      <td>Friday</td>\n",
       "      <td>1</td>\n",
       "      <td>0</td>\n",
       "      <td>2016-01-01</td>\n",
       "      <td>1</td>\n",
       "      <td>Night</td>\n",
       "      <td>61.446225</td>\n",
       "      <td>19.036123</td>\n",
       "      <td>0</td>\n",
       "    </tr>\n",
       "    <tr>\n",
       "      <th>2</th>\n",
       "      <td>B11</td>\n",
       "      <td>31.000000</td>\n",
       "      <td>2016-01-01 00:00:15</td>\n",
       "      <td>Friday</td>\n",
       "      <td>1</td>\n",
       "      <td>0</td>\n",
       "      <td>2016-01-01</td>\n",
       "      <td>1</td>\n",
       "      <td>Night</td>\n",
       "      <td>61.446225</td>\n",
       "      <td>19.036123</td>\n",
       "      <td>0</td>\n",
       "    </tr>\n",
       "    <tr>\n",
       "      <th>3</th>\n",
       "      <td>B11</td>\n",
       "      <td>7.200000</td>\n",
       "      <td>2016-01-01 00:00:17</td>\n",
       "      <td>Friday</td>\n",
       "      <td>1</td>\n",
       "      <td>0</td>\n",
       "      <td>2016-01-01</td>\n",
       "      <td>1</td>\n",
       "      <td>Night</td>\n",
       "      <td>61.446225</td>\n",
       "      <td>19.036123</td>\n",
       "      <td>0</td>\n",
       "    </tr>\n",
       "    <tr>\n",
       "      <th>4</th>\n",
       "      <td>B11</td>\n",
       "      <td>23.900000</td>\n",
       "      <td>2016-01-01 00:00:18</td>\n",
       "      <td>Friday</td>\n",
       "      <td>1</td>\n",
       "      <td>0</td>\n",
       "      <td>2016-01-01</td>\n",
       "      <td>1</td>\n",
       "      <td>Night</td>\n",
       "      <td>61.446225</td>\n",
       "      <td>19.036123</td>\n",
       "      <td>0</td>\n",
       "    </tr>\n",
       "  </tbody>\n",
       "</table>\n",
       "</div>"
      ],
      "text/plain": [
       "  bus_line  trip_time           begin_time day_of_week  month  hour  \\\n",
       "0      B11  67.633333  2016-01-01 00:00:13      Friday      1     0   \n",
       "1      B11  36.066667  2016-01-01 00:00:14      Friday      1     0   \n",
       "2      B11  31.000000  2016-01-01 00:00:15      Friday      1     0   \n",
       "3      B11   7.200000  2016-01-01 00:00:17      Friday      1     0   \n",
       "4      B11  23.900000  2016-01-01 00:00:18      Friday      1     0   \n",
       "\n",
       "         date  day time_period  avg_trip_time  std_trip_time  delay  \n",
       "0  2016-01-01    1       Night      61.446225      19.036123      0  \n",
       "1  2016-01-01    1       Night      61.446225      19.036123      0  \n",
       "2  2016-01-01    1       Night      61.446225      19.036123      0  \n",
       "3  2016-01-01    1       Night      61.446225      19.036123      0  \n",
       "4  2016-01-01    1       Night      61.446225      19.036123      0  "
      ]
     },
     "execution_count": 30,
     "metadata": {},
     "output_type": "execute_result"
    }
   ],
   "source": [
    "bus.head()"
   ]
  },
  {
   "cell_type": "code",
   "execution_count": 31,
   "metadata": {
    "collapsed": false,
    "deletable": true,
    "editable": true
   },
   "outputs": [
    {
     "data": {
      "text/plain": [
       "827763"
      ]
     },
     "execution_count": 31,
     "metadata": {},
     "output_type": "execute_result"
    }
   ],
   "source": [
    "len(bus)"
   ]
  },
  {
   "cell_type": "code",
   "execution_count": 32,
   "metadata": {
    "collapsed": true,
    "deletable": true,
    "editable": true
   },
   "outputs": [],
   "source": [
    "bus_weather = pd.merge(bus, weather, how='left', on=['month','day','hour'])"
   ]
  },
  {
   "cell_type": "code",
   "execution_count": 33,
   "metadata": {
    "collapsed": false,
    "deletable": true,
    "editable": true
   },
   "outputs": [
    {
     "data": {
      "text/plain": [
       "827763"
      ]
     },
     "execution_count": 33,
     "metadata": {},
     "output_type": "execute_result"
    }
   ],
   "source": [
    "len(bus_weather)"
   ]
  },
  {
   "cell_type": "code",
   "execution_count": 34,
   "metadata": {
    "collapsed": false,
    "deletable": true,
    "editable": true,
    "scrolled": false
   },
   "outputs": [
    {
     "data": {
      "text/html": [
       "<div>\n",
       "<table border=\"1\" class=\"dataframe\">\n",
       "  <thead>\n",
       "    <tr style=\"text-align: right;\">\n",
       "      <th></th>\n",
       "      <th>bus_line</th>\n",
       "      <th>trip_time</th>\n",
       "      <th>begin_time</th>\n",
       "      <th>day_of_week</th>\n",
       "      <th>month</th>\n",
       "      <th>hour</th>\n",
       "      <th>date</th>\n",
       "      <th>day</th>\n",
       "      <th>time_period</th>\n",
       "      <th>avg_trip_time</th>\n",
       "      <th>std_trip_time</th>\n",
       "      <th>delay</th>\n",
       "      <th>Conditions</th>\n",
       "      <th>Humidity</th>\n",
       "      <th>PrecipitationIn</th>\n",
       "      <th>TemperatureF</th>\n",
       "      <th>VisibilityMPH</th>\n",
       "      <th>Wind SpeedMPH</th>\n",
       "    </tr>\n",
       "  </thead>\n",
       "  <tbody>\n",
       "    <tr>\n",
       "      <th>0</th>\n",
       "      <td>B11</td>\n",
       "      <td>39.816667</td>\n",
       "      <td>2016-01-01 05:27:56</td>\n",
       "      <td>Friday</td>\n",
       "      <td>1</td>\n",
       "      <td>5</td>\n",
       "      <td>2016-01-01</td>\n",
       "      <td>1</td>\n",
       "      <td>Night</td>\n",
       "      <td>61.446225</td>\n",
       "      <td>19.036123</td>\n",
       "      <td>0</td>\n",
       "      <td>Overcast</td>\n",
       "      <td>51.0</td>\n",
       "      <td>0.0</td>\n",
       "      <td>42.1</td>\n",
       "      <td>10.0</td>\n",
       "      <td>4.6</td>\n",
       "    </tr>\n",
       "    <tr>\n",
       "      <th>1</th>\n",
       "      <td>B11</td>\n",
       "      <td>39.900000</td>\n",
       "      <td>2016-01-01 09:11:05</td>\n",
       "      <td>Friday</td>\n",
       "      <td>1</td>\n",
       "      <td>9</td>\n",
       "      <td>2016-01-01</td>\n",
       "      <td>1</td>\n",
       "      <td>PeakAM</td>\n",
       "      <td>42.587963</td>\n",
       "      <td>11.800522</td>\n",
       "      <td>0</td>\n",
       "      <td>Overcast</td>\n",
       "      <td>58.0</td>\n",
       "      <td>0.0</td>\n",
       "      <td>39.9</td>\n",
       "      <td>10.0</td>\n",
       "      <td>10.4</td>\n",
       "    </tr>\n",
       "    <tr>\n",
       "      <th>2</th>\n",
       "      <td>B11</td>\n",
       "      <td>38.450000</td>\n",
       "      <td>2016-01-01 09:44:02</td>\n",
       "      <td>Friday</td>\n",
       "      <td>1</td>\n",
       "      <td>9</td>\n",
       "      <td>2016-01-01</td>\n",
       "      <td>1</td>\n",
       "      <td>PeakAM</td>\n",
       "      <td>42.587963</td>\n",
       "      <td>11.800522</td>\n",
       "      <td>0</td>\n",
       "      <td>Overcast</td>\n",
       "      <td>58.0</td>\n",
       "      <td>0.0</td>\n",
       "      <td>39.9</td>\n",
       "      <td>10.0</td>\n",
       "      <td>10.4</td>\n",
       "    </tr>\n",
       "    <tr>\n",
       "      <th>3</th>\n",
       "      <td>B11</td>\n",
       "      <td>53.900000</td>\n",
       "      <td>2016-01-01 09:52:02</td>\n",
       "      <td>Friday</td>\n",
       "      <td>1</td>\n",
       "      <td>9</td>\n",
       "      <td>2016-01-01</td>\n",
       "      <td>1</td>\n",
       "      <td>PeakAM</td>\n",
       "      <td>42.587963</td>\n",
       "      <td>11.800522</td>\n",
       "      <td>0</td>\n",
       "      <td>Overcast</td>\n",
       "      <td>58.0</td>\n",
       "      <td>0.0</td>\n",
       "      <td>39.9</td>\n",
       "      <td>10.0</td>\n",
       "      <td>10.4</td>\n",
       "    </tr>\n",
       "    <tr>\n",
       "      <th>4</th>\n",
       "      <td>B11</td>\n",
       "      <td>34.700000</td>\n",
       "      <td>2016-01-01 10:10:50</td>\n",
       "      <td>Friday</td>\n",
       "      <td>1</td>\n",
       "      <td>10</td>\n",
       "      <td>2016-01-01</td>\n",
       "      <td>1</td>\n",
       "      <td>MidDay</td>\n",
       "      <td>61.384230</td>\n",
       "      <td>14.874246</td>\n",
       "      <td>0</td>\n",
       "      <td>Overcast</td>\n",
       "      <td>58.0</td>\n",
       "      <td>0.0</td>\n",
       "      <td>39.9</td>\n",
       "      <td>10.0</td>\n",
       "      <td>6.9</td>\n",
       "    </tr>\n",
       "  </tbody>\n",
       "</table>\n",
       "</div>"
      ],
      "text/plain": [
       "  bus_line  trip_time           begin_time day_of_week  month  hour  \\\n",
       "0      B11  39.816667  2016-01-01 05:27:56      Friday      1     5   \n",
       "1      B11  39.900000  2016-01-01 09:11:05      Friday      1     9   \n",
       "2      B11  38.450000  2016-01-01 09:44:02      Friday      1     9   \n",
       "3      B11  53.900000  2016-01-01 09:52:02      Friday      1     9   \n",
       "4      B11  34.700000  2016-01-01 10:10:50      Friday      1    10   \n",
       "\n",
       "         date  day time_period  avg_trip_time  std_trip_time  delay  \\\n",
       "0  2016-01-01    1       Night      61.446225      19.036123      0   \n",
       "1  2016-01-01    1      PeakAM      42.587963      11.800522      0   \n",
       "2  2016-01-01    1      PeakAM      42.587963      11.800522      0   \n",
       "3  2016-01-01    1      PeakAM      42.587963      11.800522      0   \n",
       "4  2016-01-01    1      MidDay      61.384230      14.874246      0   \n",
       "\n",
       "  Conditions  Humidity  PrecipitationIn  TemperatureF  VisibilityMPH  \\\n",
       "0   Overcast      51.0              0.0          42.1           10.0   \n",
       "1   Overcast      58.0              0.0          39.9           10.0   \n",
       "2   Overcast      58.0              0.0          39.9           10.0   \n",
       "3   Overcast      58.0              0.0          39.9           10.0   \n",
       "4   Overcast      58.0              0.0          39.9           10.0   \n",
       "\n",
       "  Wind SpeedMPH  \n",
       "0           4.6  \n",
       "1          10.4  \n",
       "2          10.4  \n",
       "3          10.4  \n",
       "4           6.9  "
      ]
     },
     "execution_count": 34,
     "metadata": {},
     "output_type": "execute_result"
    }
   ],
   "source": [
    "bus_weather['PrecipitationIn'].fillna(0, inplace=True)\n",
    "bus_weather.dropna(inplace=True)\n",
    "bus_weather.sort_values(['bus_line','begin_time'], inplace=True)\n",
    "bus_weather.reset_index(inplace=True, drop=True)\n",
    "bus_weather.head()"
   ]
  },
  {
   "cell_type": "code",
   "execution_count": 35,
   "metadata": {
    "collapsed": false,
    "deletable": true,
    "editable": true
   },
   "outputs": [
    {
     "data": {
      "text/plain": [
       "822423"
      ]
     },
     "execution_count": 35,
     "metadata": {},
     "output_type": "execute_result"
    }
   ],
   "source": [
    "len(bus_weather)"
   ]
  },
  {
   "cell_type": "code",
   "execution_count": 36,
   "metadata": {
    "collapsed": true,
    "deletable": true,
    "editable": true
   },
   "outputs": [],
   "source": [
    "bus_weather.to_csv('data/interim/bus_times_delay_weather.csv')"
   ]
  },
  {
   "cell_type": "markdown",
   "metadata": {
    "collapsed": true,
    "deletable": true,
    "editable": true
   },
   "source": [
    "### Merge Spatial Data"
   ]
  },
  {
   "cell_type": "code",
   "execution_count": null,
   "metadata": {
    "collapsed": true,
    "deletable": true,
    "editable": true
   },
   "outputs": [],
   "source": []
  }
 ],
 "metadata": {
  "anaconda-cloud": {},
  "kernelspec": {
   "display_name": "Python [default]",
   "language": "python",
   "name": "python2"
  },
  "language_info": {
   "codemirror_mode": {
    "name": "ipython",
    "version": 2
   },
   "file_extension": ".py",
   "mimetype": "text/x-python",
   "name": "python",
   "nbconvert_exporter": "python",
   "pygments_lexer": "ipython2",
   "version": "2.7.8"
  }
 },
 "nbformat": 4,
 "nbformat_minor": 2
}
