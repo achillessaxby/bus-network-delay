{
 "cells": [
  {
   "cell_type": "markdown",
   "metadata": {
    "deletable": true,
    "editable": true
   },
   "source": [
    "# Logistic Regression Model"
   ]
  },
  {
   "cell_type": "code",
   "execution_count": 1,
   "metadata": {
    "collapsed": false,
    "deletable": true,
    "editable": true
   },
   "outputs": [],
   "source": [
    "# Import packages and dataset\n",
    "import pandas as pd\n",
    "import numpy as np\n",
    "from sklearn.linear_model import LogisticRegression\n",
    "from sklearn.model_selection import train_test_split\n",
    "df = pd.read_csv('data/processed/bus_network_data.csv', index_col=0, low_memory=False)"
   ]
  },
  {
   "cell_type": "code",
   "execution_count": 2,
   "metadata": {
    "collapsed": false
   },
   "outputs": [
    {
     "data": {
      "text/html": [
       "<div>\n",
       "<table border=\"1\" class=\"dataframe\">\n",
       "  <thead>\n",
       "    <tr style=\"text-align: right;\">\n",
       "      <th></th>\n",
       "      <th>bus_line</th>\n",
       "      <th>direction</th>\n",
       "      <th>date</th>\n",
       "      <th>month</th>\n",
       "      <th>day</th>\n",
       "      <th>day_of_week</th>\n",
       "      <th>time_period</th>\n",
       "      <th>hour</th>\n",
       "      <th>minute</th>\n",
       "      <th>trip_time</th>\n",
       "      <th>...</th>\n",
       "      <th>Humidity</th>\n",
       "      <th>PrecipitationIn</th>\n",
       "      <th>TemperatureF</th>\n",
       "      <th>VisibilityMPH</th>\n",
       "      <th>Wind SpeedMPH</th>\n",
       "      <th>totalInjuries</th>\n",
       "      <th>pavementScore</th>\n",
       "      <th>potholeCount</th>\n",
       "      <th>prev_trip_ratio</th>\n",
       "      <th>ntwk_delay_lag1hr</th>\n",
       "    </tr>\n",
       "  </thead>\n",
       "  <tbody>\n",
       "    <tr>\n",
       "      <th>0</th>\n",
       "      <td>B11</td>\n",
       "      <td>2.0</td>\n",
       "      <td>2016-01-01</td>\n",
       "      <td>1</td>\n",
       "      <td>1</td>\n",
       "      <td>Friday</td>\n",
       "      <td>PeakAM</td>\n",
       "      <td>9</td>\n",
       "      <td>44</td>\n",
       "      <td>38.450000</td>\n",
       "      <td>...</td>\n",
       "      <td>58.0</td>\n",
       "      <td>0.0</td>\n",
       "      <td>39.9</td>\n",
       "      <td>10.0</td>\n",
       "      <td>10.4</td>\n",
       "      <td>162</td>\n",
       "      <td>2110.0</td>\n",
       "      <td>237</td>\n",
       "      <td>0.638492</td>\n",
       "      <td>2.0</td>\n",
       "    </tr>\n",
       "    <tr>\n",
       "      <th>1</th>\n",
       "      <td>B11</td>\n",
       "      <td>1.0</td>\n",
       "      <td>2016-01-01</td>\n",
       "      <td>1</td>\n",
       "      <td>1</td>\n",
       "      <td>Friday</td>\n",
       "      <td>PeakAM</td>\n",
       "      <td>9</td>\n",
       "      <td>52</td>\n",
       "      <td>53.900000</td>\n",
       "      <td>...</td>\n",
       "      <td>58.0</td>\n",
       "      <td>0.0</td>\n",
       "      <td>39.9</td>\n",
       "      <td>10.0</td>\n",
       "      <td>10.4</td>\n",
       "      <td>162</td>\n",
       "      <td>2110.0</td>\n",
       "      <td>237</td>\n",
       "      <td>1.055520</td>\n",
       "      <td>2.0</td>\n",
       "    </tr>\n",
       "    <tr>\n",
       "      <th>2</th>\n",
       "      <td>B11</td>\n",
       "      <td>2.0</td>\n",
       "      <td>2016-01-01</td>\n",
       "      <td>1</td>\n",
       "      <td>1</td>\n",
       "      <td>Friday</td>\n",
       "      <td>MidDay</td>\n",
       "      <td>10</td>\n",
       "      <td>10</td>\n",
       "      <td>34.700000</td>\n",
       "      <td>...</td>\n",
       "      <td>58.0</td>\n",
       "      <td>0.0</td>\n",
       "      <td>39.9</td>\n",
       "      <td>10.0</td>\n",
       "      <td>6.9</td>\n",
       "      <td>162</td>\n",
       "      <td>2110.0</td>\n",
       "      <td>237</td>\n",
       "      <td>1.017161</td>\n",
       "      <td>4.0</td>\n",
       "    </tr>\n",
       "    <tr>\n",
       "      <th>3</th>\n",
       "      <td>B11</td>\n",
       "      <td>1.0</td>\n",
       "      <td>2016-01-01</td>\n",
       "      <td>1</td>\n",
       "      <td>1</td>\n",
       "      <td>Friday</td>\n",
       "      <td>MidDay</td>\n",
       "      <td>10</td>\n",
       "      <td>23</td>\n",
       "      <td>41.050000</td>\n",
       "      <td>...</td>\n",
       "      <td>58.0</td>\n",
       "      <td>0.0</td>\n",
       "      <td>39.9</td>\n",
       "      <td>10.0</td>\n",
       "      <td>6.9</td>\n",
       "      <td>162</td>\n",
       "      <td>2110.0</td>\n",
       "      <td>237</td>\n",
       "      <td>0.979406</td>\n",
       "      <td>4.0</td>\n",
       "    </tr>\n",
       "    <tr>\n",
       "      <th>4</th>\n",
       "      <td>B11</td>\n",
       "      <td>2.0</td>\n",
       "      <td>2016-01-01</td>\n",
       "      <td>1</td>\n",
       "      <td>1</td>\n",
       "      <td>Friday</td>\n",
       "      <td>MidDay</td>\n",
       "      <td>10</td>\n",
       "      <td>33</td>\n",
       "      <td>40.183333</td>\n",
       "      <td>...</td>\n",
       "      <td>58.0</td>\n",
       "      <td>0.0</td>\n",
       "      <td>39.9</td>\n",
       "      <td>10.0</td>\n",
       "      <td>6.9</td>\n",
       "      <td>162</td>\n",
       "      <td>2110.0</td>\n",
       "      <td>237</td>\n",
       "      <td>0.591185</td>\n",
       "      <td>4.0</td>\n",
       "    </tr>\n",
       "  </tbody>\n",
       "</table>\n",
       "<p>5 rows × 25 columns</p>\n",
       "</div>"
      ],
      "text/plain": [
       "  bus_line  direction        date  month  day day_of_week time_period  hour  \\\n",
       "0      B11        2.0  2016-01-01      1    1      Friday      PeakAM     9   \n",
       "1      B11        1.0  2016-01-01      1    1      Friday      PeakAM     9   \n",
       "2      B11        2.0  2016-01-01      1    1      Friday      MidDay    10   \n",
       "3      B11        1.0  2016-01-01      1    1      Friday      MidDay    10   \n",
       "4      B11        2.0  2016-01-01      1    1      Friday      MidDay    10   \n",
       "\n",
       "   minute  trip_time        ...         Humidity  PrecipitationIn  \\\n",
       "0      44  38.450000        ...             58.0              0.0   \n",
       "1      52  53.900000        ...             58.0              0.0   \n",
       "2      10  34.700000        ...             58.0              0.0   \n",
       "3      23  41.050000        ...             58.0              0.0   \n",
       "4      33  40.183333        ...             58.0              0.0   \n",
       "\n",
       "   TemperatureF VisibilityMPH Wind SpeedMPH  totalInjuries  pavementScore  \\\n",
       "0          39.9          10.0          10.4            162         2110.0   \n",
       "1          39.9          10.0          10.4            162         2110.0   \n",
       "2          39.9          10.0           6.9            162         2110.0   \n",
       "3          39.9          10.0           6.9            162         2110.0   \n",
       "4          39.9          10.0           6.9            162         2110.0   \n",
       "\n",
       "   potholeCount  prev_trip_ratio ntwk_delay_lag1hr  \n",
       "0           237         0.638492               2.0  \n",
       "1           237         1.055520               2.0  \n",
       "2           237         1.017161               4.0  \n",
       "3           237         0.979406               4.0  \n",
       "4           237         0.591185               4.0  \n",
       "\n",
       "[5 rows x 25 columns]"
      ]
     },
     "execution_count": 2,
     "metadata": {},
     "output_type": "execute_result"
    }
   ],
   "source": [
    "df.head()"
   ]
  },
  {
   "cell_type": "code",
   "execution_count": 3,
   "metadata": {
    "collapsed": false
   },
   "outputs": [
    {
     "data": {
      "text/plain": [
       "bus_line              object\n",
       "direction            float64\n",
       "date                  object\n",
       "month                  int64\n",
       "day                    int64\n",
       "day_of_week           object\n",
       "time_period           object\n",
       "hour                   int64\n",
       "minute                 int64\n",
       "trip_time            float64\n",
       "avg_trip_time        float64\n",
       "std_trip_time        float64\n",
       "delay_time           float64\n",
       "delay                 object\n",
       "Conditions            object\n",
       "Humidity             float64\n",
       "PrecipitationIn      float64\n",
       "TemperatureF         float64\n",
       "VisibilityMPH        float64\n",
       "Wind SpeedMPH         object\n",
       "totalInjuries          int64\n",
       "pavementScore        float64\n",
       "potholeCount           int64\n",
       "prev_trip_ratio      float64\n",
       "ntwk_delay_lag1hr     object\n",
       "dtype: object"
      ]
     },
     "execution_count": 3,
     "metadata": {},
     "output_type": "execute_result"
    }
   ],
   "source": [
    "df.ntwk_delay_lag1hr = df.ntwk_delay_lag1hr.astype(str)\n",
    "df.dtypes"
   ]
  },
  {
   "cell_type": "code",
   "execution_count": 4,
   "metadata": {
    "collapsed": false,
    "deletable": true,
    "editable": true
   },
   "outputs": [],
   "source": [
    "# Select target variable and feature space\n",
    "X = pd.get_dummies(df[[u'bus_line', u'direction', u'month', u'day_of_week',\n",
    "       u'hour', u'Conditions', u'Humidity', u'PrecipitationIn', \n",
    "       u'TemperatureF', u'VisibilityMPH', u'Wind SpeedMPH', u'totalInjuries', \n",
    "       u'pavementScore', u'potholeCount', u'prev_trip_ratio', u'ntwk_delay_lag1hr']])\n",
    "\n",
    "Y = df['delay']\n",
    "\n",
    "X_train,X_test,y_train,y_test=train_test_split(X, Y, test_size=0.3, random_state=123)"
   ]
  },
  {
   "cell_type": "code",
   "execution_count": 6,
   "metadata": {
    "collapsed": false,
    "deletable": true,
    "editable": true,
    "scrolled": false
   },
   "outputs": [
    {
     "data": {
      "text/plain": [
       "{'C': 10.680514992399115}"
      ]
     },
     "execution_count": 6,
     "metadata": {},
     "output_type": "execute_result"
    }
   ],
   "source": [
    "# Find best C parameter\n",
    "from sklearn.model_selection import GridSearchCV\n",
    "param_grid = {'C': [np.exp(i) for i in np.linspace(-5,5,20)]}\n",
    "logit = LogisticRegression()\n",
    "C_param = GridSearchCV(logit, param_grid, cv=5)\n",
    "C_param.fit(X_train, y_train)\n",
    "C_param.best_params_"
   ]
  },
  {
   "cell_type": "code",
   "execution_count": 7,
   "metadata": {
    "collapsed": false,
    "deletable": true,
    "editable": true
   },
   "outputs": [
    {
     "name": "stdout",
     "output_type": "stream",
     "text": [
      "Successfully (OS) predict 41.2610822614% of bus statuses\n"
     ]
    }
   ],
   "source": [
    "# Cross validate using best C parameter\n",
    "avg_acc = []\n",
    "for i in range(100):\n",
    "    X_train, X_test, Y_train, Y_test = train_test_split(\n",
    "        X, Y, test_size=0.33, random_state=i) #Use random_state to fix samples\n",
    "    X_train_dummies = pd.get_dummies(X_train)\n",
    "    X_test_dummies = pd.get_dummies(X_test)\n",
    "\n",
    "    clf = LogisticRegression(C=C_param.best_params_.values()[0]) \n",
    "    clf.fit(X_train_dummies, Y_train)\n",
    "\n",
    "    avg_acc.append(1.0*(clf.predict(X_test_dummies)==np.asarray(Y_test)).sum()/len(Y_test))\n",
    "\n",
    "print (\"Successfully (OS) predict {}% of bus statuses\".format(np.mean(avg_acc)*100))"
   ]
  },
  {
   "cell_type": "code",
   "execution_count": null,
   "metadata": {
    "collapsed": true,
    "deletable": true,
    "editable": true
   },
   "outputs": [],
   "source": []
  }
 ],
 "metadata": {
  "anaconda-cloud": {},
  "kernelspec": {
   "display_name": "Python [default]",
   "language": "python",
   "name": "python2"
  },
  "language_info": {
   "codemirror_mode": {
    "name": "ipython",
    "version": 2
   },
   "file_extension": ".py",
   "mimetype": "text/x-python",
   "name": "python",
   "nbconvert_exporter": "python",
   "pygments_lexer": "ipython2",
   "version": "2.7.8"
  }
 },
 "nbformat": 4,
 "nbformat_minor": 2
}
